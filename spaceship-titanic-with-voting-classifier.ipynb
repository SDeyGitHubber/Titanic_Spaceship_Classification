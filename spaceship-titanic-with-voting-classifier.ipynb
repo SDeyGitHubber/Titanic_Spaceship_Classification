{
 "cells": [
  {
   "cell_type": "markdown",
   "id": "bb408777",
   "metadata": {
    "papermill": {
     "duration": 0.013499,
     "end_time": "2024-03-23T15:13:55.551308",
     "exception": false,
     "start_time": "2024-03-23T15:13:55.537809",
     "status": "completed"
    },
    "tags": []
   },
   "source": [
    "<div style=\"border:2px solid black; padding:20px; font-family: Arial, sans-serif;\">\n",
    "\n",
    "<img src=\"https://miro.medium.com/v2/resize:fit:828/format:webp/1*q4Di1NuAoDwm0ErFuJhG5g.jpeg\" alt=\"Sports Product Scraping\" style=\"width:100%;height:auto;\">\n",
    "\n",
    "<h2 style=\"color:blue;\">Hi everyone, I'm Shouvik Dey!</h2>\n",
    "\n",
    "<p>I'm a data science enthusiast with a knack for solving problems and unearthing hidden gems from data. Currently, I'm aa aspiring Data Scientist, and when I'm not wrangling data, you'll find me actively contributing to the Kaggle community. My projects and learnings take shape as Machine Learning, Deep Learning, and Data Analysis notebooks – all accessible on my <a href=\"https://github.com/SDeyGitHubber\">GitHub</a>.</p>\n",
    "\n",
    "<h3>Getting the best Accuracy using a Plethora of techniques: A Glimpse into Machine Learning and Deep Learning</h3>  <p>Beyond the technical aspects, I'm passionate about the impact data science can create. This is why I used multiple models, tuned them , tested and validated them, to finally get the best performing model✨ . Just exlpore the notebook and enjoy learning. Do upvote if you liked the content as it motivates me to perform, and learn better</p>\n",
    "\n",
    "<p>This is my GitHub account, where you can explore my work <a href=\"https://github.com/SDeyGitHubber\">here</a>!</p>\n",
    "\n",
    "<p>Feel free to connect with me on <a href=\"https://in.linkedin.com/in/shouvikdey\">LinkedIn</a> or shoot me an email at shouvik.dey21@gmail.com to discuss data science, collaborate on projects, or simply chat about the exciting possibilities this field holds!</p>\n",
    "\n",
    "<h3>Let's make some data magic together!  #<code>datascience</code> #<code>MachineLearning</code> #<code>DeepLearning</code> #<code>Ensembling</code> #<code>kaggle</code></h3>\n",
    "\n",
    "</div>\n"
   ]
  },
  {
   "cell_type": "markdown",
   "id": "c34ff18d",
   "metadata": {
    "papermill": {
     "duration": 0.01286,
     "end_time": "2024-03-23T15:13:55.577882",
     "exception": false,
     "start_time": "2024-03-23T15:13:55.565022",
     "status": "completed"
    },
    "tags": []
   },
   "source": [
    "<div style=\"background-color: #F0E6FF; padding: 20px; border-radius: 10px;\">\n",
    "\n",
    "<h2 style=\"color: #8C52FF; text-align: center;\">Building a Machine Learning Model (Beginner-Friendly)</h2>\n",
    "\n",
    "<p style=\"font-size: 16px;\">This section guides you through building a basic machine learning model using common libraries. We'll explore the following steps:</p>\n",
    "\n",
    "<ul style=\"list-style-type: disc; padding-left: 20px;\">\n",
    "  <li><b>Importing Libraries:</b> Essential tools for data manipulation, model building, and evaluation.</li>\n",
    "  <li><b>Data Preprocessing:</b> Preparing your data for the model by handling missing values, scaling features, and encoding categorical variables.</li>\n",
    "  <li><b>Model Building:</b> Constructing a simple neural network model with TensorFlow and Keras.</li>\n",
    "  <li><b>Model Evaluation:</b> Assessing the model's performance using accuracy score.</li>\n",
    "</ul>\n",
    "\n",
    "<p style=\"font-size: 16px;\"><b>Learning Resources:</b></p>\n",
    "\n",
    "<ul style=\"list-style-type: disc; padding-left: 20px;\">\n",
    "  <li><a href=\"https://www.tensorflow.org/tutorials\" style=\"color: #8C52FF;\">TensorFlow Tutorials</a></li>\n",
    "  <li><a href=\"https://scikit-learn.org/\" style=\"color: #8C52FF;\">Scikit-learn User Guide</a></li>\n",
    "  <li><a href=\"https://developers.google.com/machine-learning/crash-course\" style=\"color: #8C52FF;\">Machine Learning Crash Course (Google)</a></li>\n",
    "</ul>\n",
    "\n",
    "</div>\n"
   ]
  },
  {
   "cell_type": "markdown",
   "id": "131b1b75",
   "metadata": {
    "papermill": {
     "duration": 0.01277,
     "end_time": "2024-03-23T15:13:55.603940",
     "exception": false,
     "start_time": "2024-03-23T15:13:55.591170",
     "status": "completed"
    },
    "tags": []
   },
   "source": [
    "<div style=\"background-color: #F0F8FF; padding: 20px; border: 1px solid #D3E0CB; border-radius: 10px; display: flex; flex-direction: column; justify-content: center; align-items: center; min-height: 100px;\">\n",
    "\n",
    "<h3 style=\"color: #38771A; text-align: center;\">Explanation of Libraries</h3>\n",
    "\n",
    "<ul style=\"list-style-type: disc; padding-left: 20px;\">\n",
    "  <li>\n",
    "    <b>TensorFlow & Keras</b>: These powerful libraries work together for building and training neural networks. TensorFlow handles the underlying computations, while Keras provides a user-friendly interface to define and train your models.\n",
    "  </li>\n",
    "  <li>\n",
    "    <b>Scikit-learn Metrics</b>: This library offers various functions to evaluate the performance of machine learning models. Here, we'll use `accuracy_score` to assess how well our model predicts the correct outcome.\n",
    "  </li>\n",
    "  <li>\n",
    "    <i>Scikit-learn Ensembles (Not used here)</i>: (While not used in this specific example), `sklearn.ensemble` provides tools for combining multiple models (e.g., random forests) to potentially improve overall performance.\n",
    "  </li>\n",
    "  <li>\n",
    "    <b>Scikit-learn Preprocessing</b>: ️ This library offers essential tools for preparing your data for machine learning models. Common tasks include:\n",
    "    <ul style=\"list-style-type: circle; list-indent: 15px;\">\n",
    "      <li>**Scaling:** Standardizing features to a similar range for better model training.</li>\n",
    "      <li>**Encoding:** Converting categorical variables (text labels) into numerical representations that models can understand.</li>\n",
    "    </ul>\n",
    "  </li>\n",
    "  <li>\n",
    "    <b>Scikit-learn Model Selection</b>: This library provides functions for splitting your data into training and testing sets. This helps prevent overfitting and allows you to evaluate the model's generalizability on unseen data.\n",
    "  </li>\n",
    "  <li>\n",
    "    <b>Pandas</b>: This versatile library is widely used for data manipulation and analysis in Python. It offers data structures like DataFrames (similar to spreadsheets) that make handling and exploring your data efficient.\n",
    "  </li>\n",
    "</ul>\n",
    "\n",
    "</div>\n"
   ]
  },
  {
   "cell_type": "code",
   "execution_count": 1,
   "id": "29403692",
   "metadata": {
    "execution": {
     "iopub.execute_input": "2024-03-23T15:13:55.632418Z",
     "iopub.status.busy": "2024-03-23T15:13:55.632027Z",
     "iopub.status.idle": "2024-03-23T15:14:05.975499Z",
     "shell.execute_reply": "2024-03-23T15:14:05.974095Z"
    },
    "papermill": {
     "duration": 10.361058,
     "end_time": "2024-03-23T15:14:05.978125",
     "exception": false,
     "start_time": "2024-03-23T15:13:55.617067",
     "status": "completed"
    },
    "tags": []
   },
   "outputs": [
    {
     "name": "stderr",
     "output_type": "stream",
     "text": [
      "/opt/conda/lib/python3.10/site-packages/tensorflow_io/python/ops/__init__.py:98: UserWarning: unable to load libtensorflow_io_plugins.so: unable to open file: libtensorflow_io_plugins.so, from paths: ['/opt/conda/lib/python3.10/site-packages/tensorflow_io/python/ops/libtensorflow_io_plugins.so']\n",
      "caused by: ['/opt/conda/lib/python3.10/site-packages/tensorflow_io/python/ops/libtensorflow_io_plugins.so: undefined symbol: _ZN3tsl6StatusC1EN10tensorflow5error4CodeESt17basic_string_viewIcSt11char_traitsIcEENS_14SourceLocationE']\n",
      "  warnings.warn(f\"unable to load libtensorflow_io_plugins.so: {e}\")\n",
      "/opt/conda/lib/python3.10/site-packages/tensorflow_io/python/ops/__init__.py:104: UserWarning: file system plugins are not loaded: unable to open file: libtensorflow_io.so, from paths: ['/opt/conda/lib/python3.10/site-packages/tensorflow_io/python/ops/libtensorflow_io.so']\n",
      "caused by: ['/opt/conda/lib/python3.10/site-packages/tensorflow_io/python/ops/libtensorflow_io.so: undefined symbol: _ZTVN10tensorflow13GcsFileSystemE']\n",
      "  warnings.warn(f\"file system plugins are not loaded: {e}\")\n"
     ]
    }
   ],
   "source": [
    "import tensorflow as tf\n",
    "from tensorflow.keras.models import Sequential\n",
    "from tensorflow.keras.layers import Dense, Dropout\n",
    "from sklearn.metrics import accuracy_score\n",
    "from sklearn.ensemble import VotingClassifier\n",
    "from sklearn.preprocessing import OneHotEncoder\n",
    "from sklearn.preprocessing import StandardScaler, LabelEncoder\n",
    "from sklearn.model_selection import train_test_split\n",
    "import pandas as pd"
   ]
  },
  {
   "cell_type": "markdown",
   "id": "af3831cf",
   "metadata": {
    "papermill": {
     "duration": 0.013038,
     "end_time": "2024-03-23T15:14:06.005172",
     "exception": false,
     "start_time": "2024-03-23T15:14:05.992134",
     "status": "completed"
    },
    "tags": []
   },
   "source": [
    "We checkout the file paths in the next cell"
   ]
  },
  {
   "cell_type": "code",
   "execution_count": 2,
   "id": "c6ba9c19",
   "metadata": {
    "_cell_guid": "b1076dfc-b9ad-4769-8c92-a6c4dae69d19",
    "_uuid": "8f2839f25d086af736a60e9eeb907d3b93b6e0e5",
    "execution": {
     "iopub.execute_input": "2024-03-23T15:14:06.034315Z",
     "iopub.status.busy": "2024-03-23T15:14:06.033545Z",
     "iopub.status.idle": "2024-03-23T15:14:06.042013Z",
     "shell.execute_reply": "2024-03-23T15:14:06.040521Z"
    },
    "papermill": {
     "duration": 0.025846,
     "end_time": "2024-03-23T15:14:06.044726",
     "exception": false,
     "start_time": "2024-03-23T15:14:06.018880",
     "status": "completed"
    },
    "tags": []
   },
   "outputs": [
    {
     "name": "stdout",
     "output_type": "stream",
     "text": [
      "/kaggle/input/spaceship-titanic/sample_submission.csv\n",
      "/kaggle/input/spaceship-titanic/train.csv\n",
      "/kaggle/input/spaceship-titanic/test.csv\n"
     ]
    }
   ],
   "source": [
    "import numpy as np # linear algebra\n",
    "import pandas as pd # data processing, CSV file I/O (e.g. pd.read_csv)\n",
    "\n",
    "import os\n",
    "for dirname, _, filenames in os.walk('/kaggle/input'):\n",
    "    for filename in filenames:\n",
    "        print(os.path.join(dirname, filename))"
   ]
  },
  {
   "cell_type": "markdown",
   "id": "6b09c70a",
   "metadata": {
    "papermill": {
     "duration": 0.013354,
     "end_time": "2024-03-23T15:14:06.071724",
     "exception": false,
     "start_time": "2024-03-23T15:14:06.058370",
     "status": "completed"
    },
    "tags": []
   },
   "source": [
    "# First Step:\n",
    "#### Data Ingestion-- We load the train and test datasets read the data"
   ]
  },
  {
   "cell_type": "code",
   "execution_count": 3,
   "id": "5f2cacdc",
   "metadata": {
    "execution": {
     "iopub.execute_input": "2024-03-23T15:14:06.102548Z",
     "iopub.status.busy": "2024-03-23T15:14:06.101358Z",
     "iopub.status.idle": "2024-03-23T15:14:06.204547Z",
     "shell.execute_reply": "2024-03-23T15:14:06.203287Z"
    },
    "papermill": {
     "duration": 0.121388,
     "end_time": "2024-03-23T15:14:06.207759",
     "exception": false,
     "start_time": "2024-03-23T15:14:06.086371",
     "status": "completed"
    },
    "tags": []
   },
   "outputs": [
    {
     "data": {
      "text/html": [
       "<div>\n",
       "<style scoped>\n",
       "    .dataframe tbody tr th:only-of-type {\n",
       "        vertical-align: middle;\n",
       "    }\n",
       "\n",
       "    .dataframe tbody tr th {\n",
       "        vertical-align: top;\n",
       "    }\n",
       "\n",
       "    .dataframe thead th {\n",
       "        text-align: right;\n",
       "    }\n",
       "</style>\n",
       "<table border=\"1\" class=\"dataframe\">\n",
       "  <thead>\n",
       "    <tr style=\"text-align: right;\">\n",
       "      <th></th>\n",
       "      <th>PassengerId</th>\n",
       "      <th>HomePlanet</th>\n",
       "      <th>CryoSleep</th>\n",
       "      <th>Cabin</th>\n",
       "      <th>Destination</th>\n",
       "      <th>Age</th>\n",
       "      <th>VIP</th>\n",
       "      <th>RoomService</th>\n",
       "      <th>FoodCourt</th>\n",
       "      <th>ShoppingMall</th>\n",
       "      <th>Spa</th>\n",
       "      <th>VRDeck</th>\n",
       "      <th>Name</th>\n",
       "      <th>Transported</th>\n",
       "    </tr>\n",
       "  </thead>\n",
       "  <tbody>\n",
       "    <tr>\n",
       "      <th>0</th>\n",
       "      <td>0001_01</td>\n",
       "      <td>Europa</td>\n",
       "      <td>False</td>\n",
       "      <td>B/0/P</td>\n",
       "      <td>TRAPPIST-1e</td>\n",
       "      <td>39.0</td>\n",
       "      <td>False</td>\n",
       "      <td>0.0</td>\n",
       "      <td>0.0</td>\n",
       "      <td>0.0</td>\n",
       "      <td>0.0</td>\n",
       "      <td>0.0</td>\n",
       "      <td>Maham Ofracculy</td>\n",
       "      <td>False</td>\n",
       "    </tr>\n",
       "    <tr>\n",
       "      <th>1</th>\n",
       "      <td>0002_01</td>\n",
       "      <td>Earth</td>\n",
       "      <td>False</td>\n",
       "      <td>F/0/S</td>\n",
       "      <td>TRAPPIST-1e</td>\n",
       "      <td>24.0</td>\n",
       "      <td>False</td>\n",
       "      <td>109.0</td>\n",
       "      <td>9.0</td>\n",
       "      <td>25.0</td>\n",
       "      <td>549.0</td>\n",
       "      <td>44.0</td>\n",
       "      <td>Juanna Vines</td>\n",
       "      <td>True</td>\n",
       "    </tr>\n",
       "    <tr>\n",
       "      <th>2</th>\n",
       "      <td>0003_01</td>\n",
       "      <td>Europa</td>\n",
       "      <td>False</td>\n",
       "      <td>A/0/S</td>\n",
       "      <td>TRAPPIST-1e</td>\n",
       "      <td>58.0</td>\n",
       "      <td>True</td>\n",
       "      <td>43.0</td>\n",
       "      <td>3576.0</td>\n",
       "      <td>0.0</td>\n",
       "      <td>6715.0</td>\n",
       "      <td>49.0</td>\n",
       "      <td>Altark Susent</td>\n",
       "      <td>False</td>\n",
       "    </tr>\n",
       "    <tr>\n",
       "      <th>3</th>\n",
       "      <td>0003_02</td>\n",
       "      <td>Europa</td>\n",
       "      <td>False</td>\n",
       "      <td>A/0/S</td>\n",
       "      <td>TRAPPIST-1e</td>\n",
       "      <td>33.0</td>\n",
       "      <td>False</td>\n",
       "      <td>0.0</td>\n",
       "      <td>1283.0</td>\n",
       "      <td>371.0</td>\n",
       "      <td>3329.0</td>\n",
       "      <td>193.0</td>\n",
       "      <td>Solam Susent</td>\n",
       "      <td>False</td>\n",
       "    </tr>\n",
       "    <tr>\n",
       "      <th>4</th>\n",
       "      <td>0004_01</td>\n",
       "      <td>Earth</td>\n",
       "      <td>False</td>\n",
       "      <td>F/1/S</td>\n",
       "      <td>TRAPPIST-1e</td>\n",
       "      <td>16.0</td>\n",
       "      <td>False</td>\n",
       "      <td>303.0</td>\n",
       "      <td>70.0</td>\n",
       "      <td>151.0</td>\n",
       "      <td>565.0</td>\n",
       "      <td>2.0</td>\n",
       "      <td>Willy Santantines</td>\n",
       "      <td>True</td>\n",
       "    </tr>\n",
       "  </tbody>\n",
       "</table>\n",
       "</div>"
      ],
      "text/plain": [
       "  PassengerId HomePlanet CryoSleep  Cabin  Destination   Age    VIP  \\\n",
       "0     0001_01     Europa     False  B/0/P  TRAPPIST-1e  39.0  False   \n",
       "1     0002_01      Earth     False  F/0/S  TRAPPIST-1e  24.0  False   \n",
       "2     0003_01     Europa     False  A/0/S  TRAPPIST-1e  58.0   True   \n",
       "3     0003_02     Europa     False  A/0/S  TRAPPIST-1e  33.0  False   \n",
       "4     0004_01      Earth     False  F/1/S  TRAPPIST-1e  16.0  False   \n",
       "\n",
       "   RoomService  FoodCourt  ShoppingMall     Spa  VRDeck               Name  \\\n",
       "0          0.0        0.0           0.0     0.0     0.0    Maham Ofracculy   \n",
       "1        109.0        9.0          25.0   549.0    44.0       Juanna Vines   \n",
       "2         43.0     3576.0           0.0  6715.0    49.0      Altark Susent   \n",
       "3          0.0     1283.0         371.0  3329.0   193.0       Solam Susent   \n",
       "4        303.0       70.0         151.0   565.0     2.0  Willy Santantines   \n",
       "\n",
       "   Transported  \n",
       "0        False  \n",
       "1         True  \n",
       "2        False  \n",
       "3        False  \n",
       "4         True  "
      ]
     },
     "execution_count": 3,
     "metadata": {},
     "output_type": "execute_result"
    }
   ],
   "source": [
    "df=pd.read_csv('/kaggle/input/spaceship-titanic/train.csv')\n",
    "df.head()"
   ]
  },
  {
   "cell_type": "code",
   "execution_count": 4,
   "id": "7b7c8c2e",
   "metadata": {
    "execution": {
     "iopub.execute_input": "2024-03-23T15:14:06.239880Z",
     "iopub.status.busy": "2024-03-23T15:14:06.238771Z",
     "iopub.status.idle": "2024-03-23T15:14:06.283157Z",
     "shell.execute_reply": "2024-03-23T15:14:06.281382Z"
    },
    "papermill": {
     "duration": 0.063907,
     "end_time": "2024-03-23T15:14:06.286483",
     "exception": false,
     "start_time": "2024-03-23T15:14:06.222576",
     "status": "completed"
    },
    "tags": []
   },
   "outputs": [
    {
     "data": {
      "text/html": [
       "<div>\n",
       "<style scoped>\n",
       "    .dataframe tbody tr th:only-of-type {\n",
       "        vertical-align: middle;\n",
       "    }\n",
       "\n",
       "    .dataframe tbody tr th {\n",
       "        vertical-align: top;\n",
       "    }\n",
       "\n",
       "    .dataframe thead th {\n",
       "        text-align: right;\n",
       "    }\n",
       "</style>\n",
       "<table border=\"1\" class=\"dataframe\">\n",
       "  <thead>\n",
       "    <tr style=\"text-align: right;\">\n",
       "      <th></th>\n",
       "      <th>PassengerId</th>\n",
       "      <th>HomePlanet</th>\n",
       "      <th>CryoSleep</th>\n",
       "      <th>Cabin</th>\n",
       "      <th>Destination</th>\n",
       "      <th>Age</th>\n",
       "      <th>VIP</th>\n",
       "      <th>RoomService</th>\n",
       "      <th>FoodCourt</th>\n",
       "      <th>ShoppingMall</th>\n",
       "      <th>Spa</th>\n",
       "      <th>VRDeck</th>\n",
       "      <th>Name</th>\n",
       "    </tr>\n",
       "  </thead>\n",
       "  <tbody>\n",
       "    <tr>\n",
       "      <th>0</th>\n",
       "      <td>0013_01</td>\n",
       "      <td>Earth</td>\n",
       "      <td>True</td>\n",
       "      <td>G/3/S</td>\n",
       "      <td>TRAPPIST-1e</td>\n",
       "      <td>27.0</td>\n",
       "      <td>False</td>\n",
       "      <td>0.0</td>\n",
       "      <td>0.0</td>\n",
       "      <td>0.0</td>\n",
       "      <td>0.0</td>\n",
       "      <td>0.0</td>\n",
       "      <td>Nelly Carsoning</td>\n",
       "    </tr>\n",
       "    <tr>\n",
       "      <th>1</th>\n",
       "      <td>0018_01</td>\n",
       "      <td>Earth</td>\n",
       "      <td>False</td>\n",
       "      <td>F/4/S</td>\n",
       "      <td>TRAPPIST-1e</td>\n",
       "      <td>19.0</td>\n",
       "      <td>False</td>\n",
       "      <td>0.0</td>\n",
       "      <td>9.0</td>\n",
       "      <td>0.0</td>\n",
       "      <td>2823.0</td>\n",
       "      <td>0.0</td>\n",
       "      <td>Lerome Peckers</td>\n",
       "    </tr>\n",
       "    <tr>\n",
       "      <th>2</th>\n",
       "      <td>0019_01</td>\n",
       "      <td>Europa</td>\n",
       "      <td>True</td>\n",
       "      <td>C/0/S</td>\n",
       "      <td>55 Cancri e</td>\n",
       "      <td>31.0</td>\n",
       "      <td>False</td>\n",
       "      <td>0.0</td>\n",
       "      <td>0.0</td>\n",
       "      <td>0.0</td>\n",
       "      <td>0.0</td>\n",
       "      <td>0.0</td>\n",
       "      <td>Sabih Unhearfus</td>\n",
       "    </tr>\n",
       "    <tr>\n",
       "      <th>3</th>\n",
       "      <td>0021_01</td>\n",
       "      <td>Europa</td>\n",
       "      <td>False</td>\n",
       "      <td>C/1/S</td>\n",
       "      <td>TRAPPIST-1e</td>\n",
       "      <td>38.0</td>\n",
       "      <td>False</td>\n",
       "      <td>0.0</td>\n",
       "      <td>6652.0</td>\n",
       "      <td>0.0</td>\n",
       "      <td>181.0</td>\n",
       "      <td>585.0</td>\n",
       "      <td>Meratz Caltilter</td>\n",
       "    </tr>\n",
       "    <tr>\n",
       "      <th>4</th>\n",
       "      <td>0023_01</td>\n",
       "      <td>Earth</td>\n",
       "      <td>False</td>\n",
       "      <td>F/5/S</td>\n",
       "      <td>TRAPPIST-1e</td>\n",
       "      <td>20.0</td>\n",
       "      <td>False</td>\n",
       "      <td>10.0</td>\n",
       "      <td>0.0</td>\n",
       "      <td>635.0</td>\n",
       "      <td>0.0</td>\n",
       "      <td>0.0</td>\n",
       "      <td>Brence Harperez</td>\n",
       "    </tr>\n",
       "  </tbody>\n",
       "</table>\n",
       "</div>"
      ],
      "text/plain": [
       "  PassengerId HomePlanet CryoSleep  Cabin  Destination   Age    VIP  \\\n",
       "0     0013_01      Earth      True  G/3/S  TRAPPIST-1e  27.0  False   \n",
       "1     0018_01      Earth     False  F/4/S  TRAPPIST-1e  19.0  False   \n",
       "2     0019_01     Europa      True  C/0/S  55 Cancri e  31.0  False   \n",
       "3     0021_01     Europa     False  C/1/S  TRAPPIST-1e  38.0  False   \n",
       "4     0023_01      Earth     False  F/5/S  TRAPPIST-1e  20.0  False   \n",
       "\n",
       "   RoomService  FoodCourt  ShoppingMall     Spa  VRDeck              Name  \n",
       "0          0.0        0.0           0.0     0.0     0.0   Nelly Carsoning  \n",
       "1          0.0        9.0           0.0  2823.0     0.0    Lerome Peckers  \n",
       "2          0.0        0.0           0.0     0.0     0.0   Sabih Unhearfus  \n",
       "3          0.0     6652.0           0.0   181.0   585.0  Meratz Caltilter  \n",
       "4         10.0        0.0         635.0     0.0     0.0   Brence Harperez  "
      ]
     },
     "execution_count": 4,
     "metadata": {},
     "output_type": "execute_result"
    }
   ],
   "source": [
    "df2=pd.read_csv('/kaggle/input/spaceship-titanic/test.csv')\n",
    "df2.head()"
   ]
  },
  {
   "cell_type": "markdown",
   "id": "6b8e10d6",
   "metadata": {
    "papermill": {
     "duration": 0.013683,
     "end_time": "2024-03-23T15:14:06.314309",
     "exception": false,
     "start_time": "2024-03-23T15:14:06.300626",
     "status": "completed"
    },
    "tags": []
   },
   "source": [
    "# Data Cleaning and Feature Engineerng"
   ]
  },
  {
   "cell_type": "code",
   "execution_count": 5,
   "id": "312aa1da",
   "metadata": {
    "execution": {
     "iopub.execute_input": "2024-03-23T15:14:06.345430Z",
     "iopub.status.busy": "2024-03-23T15:14:06.344290Z",
     "iopub.status.idle": "2024-03-23T15:14:06.365512Z",
     "shell.execute_reply": "2024-03-23T15:14:06.364330Z"
    },
    "papermill": {
     "duration": 0.039578,
     "end_time": "2024-03-23T15:14:06.368354",
     "exception": false,
     "start_time": "2024-03-23T15:14:06.328776",
     "status": "completed"
    },
    "tags": []
   },
   "outputs": [
    {
     "data": {
      "text/plain": [
       "PassengerId       0\n",
       "HomePlanet      201\n",
       "CryoSleep       217\n",
       "Cabin           199\n",
       "Destination     182\n",
       "Age             179\n",
       "VIP             203\n",
       "RoomService     181\n",
       "FoodCourt       183\n",
       "ShoppingMall    208\n",
       "Spa             183\n",
       "VRDeck          188\n",
       "Name            200\n",
       "Transported       0\n",
       "dtype: int64"
      ]
     },
     "execution_count": 5,
     "metadata": {},
     "output_type": "execute_result"
    }
   ],
   "source": [
    "df.isnull().sum()"
   ]
  },
  {
   "cell_type": "code",
   "execution_count": 6,
   "id": "45b5c4a2",
   "metadata": {
    "execution": {
     "iopub.execute_input": "2024-03-23T15:14:06.399097Z",
     "iopub.status.busy": "2024-03-23T15:14:06.398347Z",
     "iopub.status.idle": "2024-03-23T15:14:06.433764Z",
     "shell.execute_reply": "2024-03-23T15:14:06.432077Z"
    },
    "papermill": {
     "duration": 0.053766,
     "end_time": "2024-03-23T15:14:06.436391",
     "exception": false,
     "start_time": "2024-03-23T15:14:06.382625",
     "status": "completed"
    },
    "tags": []
   },
   "outputs": [
    {
     "name": "stdout",
     "output_type": "stream",
     "text": [
      "<class 'pandas.core.frame.DataFrame'>\n",
      "RangeIndex: 8693 entries, 0 to 8692\n",
      "Data columns (total 14 columns):\n",
      " #   Column        Non-Null Count  Dtype  \n",
      "---  ------        --------------  -----  \n",
      " 0   PassengerId   8693 non-null   object \n",
      " 1   HomePlanet    8492 non-null   object \n",
      " 2   CryoSleep     8476 non-null   object \n",
      " 3   Cabin         8494 non-null   object \n",
      " 4   Destination   8511 non-null   object \n",
      " 5   Age           8514 non-null   float64\n",
      " 6   VIP           8490 non-null   object \n",
      " 7   RoomService   8512 non-null   float64\n",
      " 8   FoodCourt     8510 non-null   float64\n",
      " 9   ShoppingMall  8485 non-null   float64\n",
      " 10  Spa           8510 non-null   float64\n",
      " 11  VRDeck        8505 non-null   float64\n",
      " 12  Name          8493 non-null   object \n",
      " 13  Transported   8693 non-null   bool   \n",
      "dtypes: bool(1), float64(6), object(7)\n",
      "memory usage: 891.5+ KB\n"
     ]
    }
   ],
   "source": [
    "df.info()"
   ]
  },
  {
   "cell_type": "markdown",
   "id": "75a7243a",
   "metadata": {
    "papermill": {
     "duration": 0.013767,
     "end_time": "2024-03-23T15:14:06.464694",
     "exception": false,
     "start_time": "2024-03-23T15:14:06.450927",
     "status": "completed"
    },
    "tags": []
   },
   "source": [
    "#### We'll have to perform some data cleaning and feature engineering for the columns"
   ]
  },
  {
   "cell_type": "markdown",
   "id": "141b0a69",
   "metadata": {
    "papermill": {
     "duration": 0.014474,
     "end_time": "2024-03-23T15:14:06.493649",
     "exception": false,
     "start_time": "2024-03-23T15:14:06.479175",
     "status": "completed"
    },
    "tags": []
   },
   "source": [
    "<div style=\"background-color: #FFF0F5; display: flex; flex-direction: column; align-items: center; padding: 20px; border-radius: 10px;\">\n",
    "\n",
    "<h3 style=\"color: #4D5663; text-align: center;\">Data Preprocessing Insights</h3>\n",
    "\n",
    "<p style=\"font-size: 16px;\">\n",
    "Here's a summary of the key data cleaning and feature engineering steps:\n",
    "</p>\n",
    "\n",
    "<ol style=\"list-style-type: disc; padding-left: 20px;\">\n",
    "  <li>\n",
    "    <b>Extracting Features from Cabin Column:</b> Created `Deck`, `CabinNumber`, and `Side` columns from the `Cabin` column using string splitting.\n",
    "  </li>\n",
    "  <li>\n",
    "    <b>Dropping Unnecessary Columns:</b> Removed the original `Cabin` column along with `Name` and `PassengerId` as they weren't useful for prediction.\n",
    "  </li>\n",
    "  <li>\n",
    "    <b>Cleaning Text Data:</b> Removed underscores (`_`) from `PassengerId` and hyphens (`-`) from `Destination` for consistency.\n",
    "  </li>\n",
    "  <li>\n",
    "    <b>Converting Boolean Data to Numeric:</b> Replaced `True` with 1 and `False` with 0 in the `CryoSleep` and `VIP` columns for better model interpretation.\n",
    "  </li>\n",
    "</ol>\n"
   ]
  },
  {
   "cell_type": "code",
   "execution_count": 7,
   "id": "6f4e1026",
   "metadata": {
    "execution": {
     "iopub.execute_input": "2024-03-23T15:14:06.524441Z",
     "iopub.status.busy": "2024-03-23T15:14:06.524036Z",
     "iopub.status.idle": "2024-03-23T15:14:06.591106Z",
     "shell.execute_reply": "2024-03-23T15:14:06.590014Z"
    },
    "papermill": {
     "duration": 0.086122,
     "end_time": "2024-03-23T15:14:06.593810",
     "exception": false,
     "start_time": "2024-03-23T15:14:06.507688",
     "status": "completed"
    },
    "tags": []
   },
   "outputs": [
    {
     "data": {
      "text/html": [
       "<div>\n",
       "<style scoped>\n",
       "    .dataframe tbody tr th:only-of-type {\n",
       "        vertical-align: middle;\n",
       "    }\n",
       "\n",
       "    .dataframe tbody tr th {\n",
       "        vertical-align: top;\n",
       "    }\n",
       "\n",
       "    .dataframe thead th {\n",
       "        text-align: right;\n",
       "    }\n",
       "</style>\n",
       "<table border=\"1\" class=\"dataframe\">\n",
       "  <thead>\n",
       "    <tr style=\"text-align: right;\">\n",
       "      <th></th>\n",
       "      <th>HomePlanet</th>\n",
       "      <th>CryoSleep</th>\n",
       "      <th>Destination</th>\n",
       "      <th>Age</th>\n",
       "      <th>VIP</th>\n",
       "      <th>RoomService</th>\n",
       "      <th>FoodCourt</th>\n",
       "      <th>ShoppingMall</th>\n",
       "      <th>Spa</th>\n",
       "      <th>VRDeck</th>\n",
       "      <th>Transported</th>\n",
       "      <th>Deck</th>\n",
       "      <th>CabinNumber</th>\n",
       "      <th>Side</th>\n",
       "    </tr>\n",
       "  </thead>\n",
       "  <tbody>\n",
       "    <tr>\n",
       "      <th>0</th>\n",
       "      <td>Europa</td>\n",
       "      <td>0</td>\n",
       "      <td>TRAPPIST1e</td>\n",
       "      <td>39.0</td>\n",
       "      <td>0</td>\n",
       "      <td>0.0</td>\n",
       "      <td>0.0</td>\n",
       "      <td>0.0</td>\n",
       "      <td>0.0</td>\n",
       "      <td>0.0</td>\n",
       "      <td>False</td>\n",
       "      <td>B</td>\n",
       "      <td>0</td>\n",
       "      <td>P</td>\n",
       "    </tr>\n",
       "    <tr>\n",
       "      <th>1</th>\n",
       "      <td>Earth</td>\n",
       "      <td>0</td>\n",
       "      <td>TRAPPIST1e</td>\n",
       "      <td>24.0</td>\n",
       "      <td>0</td>\n",
       "      <td>109.0</td>\n",
       "      <td>9.0</td>\n",
       "      <td>25.0</td>\n",
       "      <td>549.0</td>\n",
       "      <td>44.0</td>\n",
       "      <td>True</td>\n",
       "      <td>F</td>\n",
       "      <td>0</td>\n",
       "      <td>S</td>\n",
       "    </tr>\n",
       "    <tr>\n",
       "      <th>2</th>\n",
       "      <td>Europa</td>\n",
       "      <td>0</td>\n",
       "      <td>TRAPPIST1e</td>\n",
       "      <td>58.0</td>\n",
       "      <td>1</td>\n",
       "      <td>43.0</td>\n",
       "      <td>3576.0</td>\n",
       "      <td>0.0</td>\n",
       "      <td>6715.0</td>\n",
       "      <td>49.0</td>\n",
       "      <td>False</td>\n",
       "      <td>A</td>\n",
       "      <td>0</td>\n",
       "      <td>S</td>\n",
       "    </tr>\n",
       "    <tr>\n",
       "      <th>3</th>\n",
       "      <td>Europa</td>\n",
       "      <td>0</td>\n",
       "      <td>TRAPPIST1e</td>\n",
       "      <td>33.0</td>\n",
       "      <td>0</td>\n",
       "      <td>0.0</td>\n",
       "      <td>1283.0</td>\n",
       "      <td>371.0</td>\n",
       "      <td>3329.0</td>\n",
       "      <td>193.0</td>\n",
       "      <td>False</td>\n",
       "      <td>A</td>\n",
       "      <td>0</td>\n",
       "      <td>S</td>\n",
       "    </tr>\n",
       "  </tbody>\n",
       "</table>\n",
       "</div>"
      ],
      "text/plain": [
       "  HomePlanet CryoSleep Destination   Age VIP  RoomService  FoodCourt  \\\n",
       "0     Europa         0  TRAPPIST1e  39.0   0          0.0        0.0   \n",
       "1      Earth         0  TRAPPIST1e  24.0   0        109.0        9.0   \n",
       "2     Europa         0  TRAPPIST1e  58.0   1         43.0     3576.0   \n",
       "3     Europa         0  TRAPPIST1e  33.0   0          0.0     1283.0   \n",
       "\n",
       "   ShoppingMall     Spa  VRDeck  Transported Deck CabinNumber Side  \n",
       "0           0.0     0.0     0.0        False    B           0    P  \n",
       "1          25.0   549.0    44.0         True    F           0    S  \n",
       "2           0.0  6715.0    49.0        False    A           0    S  \n",
       "3         371.0  3329.0   193.0        False    A           0    S  "
      ]
     },
     "execution_count": 7,
     "metadata": {},
     "output_type": "execute_result"
    }
   ],
   "source": [
    "df[['Deck', 'CabinNumber', 'Side']]=df['Cabin'].str.split('/',expand=True) # extracting the other features from the Cabin Column\n",
    "df=df.drop('Cabin',axis=1)       # dropping the Cabin column\n",
    "df['PassengerId']=df['PassengerId'].str.replace('_','')\n",
    "df['Destination']=df['Destination'].str.replace('-','')\n",
    "df['CryoSleep'] = df['CryoSleep'].astype(str).replace({'False': 0, 'True': 1}) # replace True and False with 1 and 0\n",
    "df['VIP'] = df['VIP'].astype(str).replace({'False': 0, 'True': 1})\n",
    "df.drop(['PassengerId','Name'],axis=1,inplace=True) # we drop the features, Name and PassengerId as they wont really help us with our \n",
    "                                                    # predictions. They are only used to identify individual rows\n",
    "df.head(4)"
   ]
  },
  {
   "cell_type": "markdown",
   "id": "3e979651",
   "metadata": {
    "papermill": {
     "duration": 0.014455,
     "end_time": "2024-03-23T15:14:06.622721",
     "exception": false,
     "start_time": "2024-03-23T15:14:06.608266",
     "status": "completed"
    },
    "tags": []
   },
   "source": [
    "#### Doing the same for our test data"
   ]
  },
  {
   "cell_type": "code",
   "execution_count": 8,
   "id": "c228df2f",
   "metadata": {
    "execution": {
     "iopub.execute_input": "2024-03-23T15:14:06.654352Z",
     "iopub.status.busy": "2024-03-23T15:14:06.653947Z",
     "iopub.status.idle": "2024-03-23T15:14:06.699898Z",
     "shell.execute_reply": "2024-03-23T15:14:06.698727Z"
    },
    "papermill": {
     "duration": 0.064625,
     "end_time": "2024-03-23T15:14:06.702427",
     "exception": false,
     "start_time": "2024-03-23T15:14:06.637802",
     "status": "completed"
    },
    "tags": []
   },
   "outputs": [
    {
     "data": {
      "text/html": [
       "<div>\n",
       "<style scoped>\n",
       "    .dataframe tbody tr th:only-of-type {\n",
       "        vertical-align: middle;\n",
       "    }\n",
       "\n",
       "    .dataframe tbody tr th {\n",
       "        vertical-align: top;\n",
       "    }\n",
       "\n",
       "    .dataframe thead th {\n",
       "        text-align: right;\n",
       "    }\n",
       "</style>\n",
       "<table border=\"1\" class=\"dataframe\">\n",
       "  <thead>\n",
       "    <tr style=\"text-align: right;\">\n",
       "      <th></th>\n",
       "      <th>HomePlanet</th>\n",
       "      <th>CryoSleep</th>\n",
       "      <th>Destination</th>\n",
       "      <th>Age</th>\n",
       "      <th>VIP</th>\n",
       "      <th>RoomService</th>\n",
       "      <th>FoodCourt</th>\n",
       "      <th>ShoppingMall</th>\n",
       "      <th>Spa</th>\n",
       "      <th>VRDeck</th>\n",
       "      <th>Deck</th>\n",
       "      <th>CabinNumber</th>\n",
       "      <th>Side</th>\n",
       "    </tr>\n",
       "  </thead>\n",
       "  <tbody>\n",
       "    <tr>\n",
       "      <th>0</th>\n",
       "      <td>Earth</td>\n",
       "      <td>1</td>\n",
       "      <td>TRAPPIST1e</td>\n",
       "      <td>27.0</td>\n",
       "      <td>0</td>\n",
       "      <td>0.0</td>\n",
       "      <td>0.0</td>\n",
       "      <td>0.0</td>\n",
       "      <td>0.0</td>\n",
       "      <td>0.0</td>\n",
       "      <td>G</td>\n",
       "      <td>3</td>\n",
       "      <td>S</td>\n",
       "    </tr>\n",
       "    <tr>\n",
       "      <th>1</th>\n",
       "      <td>Earth</td>\n",
       "      <td>0</td>\n",
       "      <td>TRAPPIST1e</td>\n",
       "      <td>19.0</td>\n",
       "      <td>0</td>\n",
       "      <td>0.0</td>\n",
       "      <td>9.0</td>\n",
       "      <td>0.0</td>\n",
       "      <td>2823.0</td>\n",
       "      <td>0.0</td>\n",
       "      <td>F</td>\n",
       "      <td>4</td>\n",
       "      <td>S</td>\n",
       "    </tr>\n",
       "    <tr>\n",
       "      <th>2</th>\n",
       "      <td>Europa</td>\n",
       "      <td>1</td>\n",
       "      <td>55 Cancri e</td>\n",
       "      <td>31.0</td>\n",
       "      <td>0</td>\n",
       "      <td>0.0</td>\n",
       "      <td>0.0</td>\n",
       "      <td>0.0</td>\n",
       "      <td>0.0</td>\n",
       "      <td>0.0</td>\n",
       "      <td>C</td>\n",
       "      <td>0</td>\n",
       "      <td>S</td>\n",
       "    </tr>\n",
       "    <tr>\n",
       "      <th>3</th>\n",
       "      <td>Europa</td>\n",
       "      <td>0</td>\n",
       "      <td>TRAPPIST1e</td>\n",
       "      <td>38.0</td>\n",
       "      <td>0</td>\n",
       "      <td>0.0</td>\n",
       "      <td>6652.0</td>\n",
       "      <td>0.0</td>\n",
       "      <td>181.0</td>\n",
       "      <td>585.0</td>\n",
       "      <td>C</td>\n",
       "      <td>1</td>\n",
       "      <td>S</td>\n",
       "    </tr>\n",
       "  </tbody>\n",
       "</table>\n",
       "</div>"
      ],
      "text/plain": [
       "  HomePlanet CryoSleep  Destination   Age VIP  RoomService  FoodCourt  \\\n",
       "0      Earth         1   TRAPPIST1e  27.0   0          0.0        0.0   \n",
       "1      Earth         0   TRAPPIST1e  19.0   0          0.0        9.0   \n",
       "2     Europa         1  55 Cancri e  31.0   0          0.0        0.0   \n",
       "3     Europa         0   TRAPPIST1e  38.0   0          0.0     6652.0   \n",
       "\n",
       "   ShoppingMall     Spa  VRDeck Deck CabinNumber Side  \n",
       "0           0.0     0.0     0.0    G           3    S  \n",
       "1           0.0  2823.0     0.0    F           4    S  \n",
       "2           0.0     0.0     0.0    C           0    S  \n",
       "3           0.0   181.0   585.0    C           1    S  "
      ]
     },
     "execution_count": 8,
     "metadata": {},
     "output_type": "execute_result"
    }
   ],
   "source": [
    "df2[['Deck', 'CabinNumber', 'Side']]=df2['Cabin'].str.split('/',expand=True)\n",
    "df2=df2.drop('Cabin',axis=1)\n",
    "df2['PassengerId']=df2['PassengerId'].str.replace('_','')\n",
    "df2['Destination']=df2['Destination'].str.replace('-','')\n",
    "df2['CryoSleep'] = df2['CryoSleep'].astype(str).replace({'False': 0, 'True': 1})\n",
    "df2['VIP'] = df2['VIP'].astype(str).replace({'False': 0, 'True': 1})\n",
    "df2.drop(['PassengerId','Name'],axis=1,inplace=True)\n",
    "df2.head(4)"
   ]
  },
  {
   "cell_type": "markdown",
   "id": "fe0b30c5",
   "metadata": {
    "papermill": {
     "duration": 0.015055,
     "end_time": "2024-03-23T15:14:06.732900",
     "exception": false,
     "start_time": "2024-03-23T15:14:06.717845",
     "status": "completed"
    },
    "tags": []
   },
   "source": [
    "<div style=\"background-color: #E6EBF2; display: flex; flex-direction: column; align-items: center; padding: 20px; border-radius: 10px;\">\n",
    "\n",
    "<h3 style=\"color: #3C4858; text-align: center;\">Data Type Analysis</h3>\n",
    "\n",
    "<p style=\"font-size: 16px;\">\n",
    "Let's explore the data types in our DataFrame:\n",
    "</p>\n",
    "\n",
    "<ul style=\"list-style-type: disc; padding-left: 20px;\">\n",
    "  <li>\n",
    "    <b>Numerical Columns:</b>  **{{ num_cols }}** (represent numerical data)\n",
    "  </li>\n",
    "  <li>\n",
    "    <b>Categorical Columns:</b>  **{{ cat_cols }}** (represent textual or categorical data)\n",
    "  </li>\n",
    "</ul>\n",
    "\n",
    "</div>\n"
   ]
  },
  {
   "cell_type": "code",
   "execution_count": 9,
   "id": "a5da7735",
   "metadata": {
    "execution": {
     "iopub.execute_input": "2024-03-23T15:14:06.764440Z",
     "iopub.status.busy": "2024-03-23T15:14:06.764010Z",
     "iopub.status.idle": "2024-03-23T15:14:06.776177Z",
     "shell.execute_reply": "2024-03-23T15:14:06.774097Z"
    },
    "papermill": {
     "duration": 0.031762,
     "end_time": "2024-03-23T15:14:06.779333",
     "exception": false,
     "start_time": "2024-03-23T15:14:06.747571",
     "status": "completed"
    },
    "tags": []
   },
   "outputs": [
    {
     "name": "stdout",
     "output_type": "stream",
     "text": [
      "the numerical columns are Index(['Age', 'RoomService', 'FoodCourt', 'ShoppingMall', 'Spa', 'VRDeck'], dtype='object')\n",
      "the categorical columns are Index(['HomePlanet', 'CryoSleep', 'Destination', 'VIP', 'Deck', 'CabinNumber',\n",
      "       'Side'],\n",
      "      dtype='object')\n"
     ]
    }
   ],
   "source": [
    "num_cols=df.select_dtypes(include=['float64']).columns\n",
    "cat_cols=df.select_dtypes(include=['object']).columns\n",
    "print(f'the numerical columns are {num_cols}')\n",
    "print(f'the categorical columns are {cat_cols}')"
   ]
  },
  {
   "cell_type": "markdown",
   "id": "ab7af473",
   "metadata": {
    "papermill": {
     "duration": 0.016416,
     "end_time": "2024-03-23T15:14:06.811556",
     "exception": false,
     "start_time": "2024-03-23T15:14:06.795140",
     "status": "completed"
    },
    "tags": []
   },
   "source": [
    "### Null value imputation  \n",
    "Filling with the most frequent values for the categorical features and mean values for the numerical features"
   ]
  },
  {
   "cell_type": "markdown",
   "id": "5160ded8",
   "metadata": {
    "papermill": {
     "duration": 0.017538,
     "end_time": "2024-03-23T15:14:06.845409",
     "exception": false,
     "start_time": "2024-03-23T15:14:06.827871",
     "status": "completed"
    },
    "tags": []
   },
   "source": [
    "<div style=\"background-color: #EBF5FB; display: flex; flex-direction: column; align-items: center; padding: 20px; border-radius: 10px;\">\n",
    "\n",
    "<h3 style=\"color: #325175; text-align: center;\">Addressing Missing Data</h3>\n",
    "\n",
    "<p style=\"font-size: 16px;\">\n",
    "To ensure model accuracy, we've addressed missing values in our dataset:\n",
    "</p>\n",
    "\n",
    "<ul style=\"list-style-type: disc; padding-left: 20px;\">\n",
    "  <li>\n",
    "    <b>Numerical Columns:</b> Missing values have been imputed (filled) with the mean of each column.\n",
    "  </li>\n",
    "  <li>\n",
    "    <b>Categorical Columns:</b> Missing values have been imputed with the most frequent value in each column.\n",
    "  </li>\n",
    "</ul>\n",
    "\n",
    "<p style=\"font-size: 16px;\">Verification of Missing Values:</p>\n",
    "\n",
    "```python\n",
    "df.isnull().sum()  # Display a summary of remaining missing values (if any)\n"
   ]
  },
  {
   "cell_type": "code",
   "execution_count": 10,
   "id": "4ebbb5e3",
   "metadata": {
    "execution": {
     "iopub.execute_input": "2024-03-23T15:14:06.878032Z",
     "iopub.status.busy": "2024-03-23T15:14:06.877597Z",
     "iopub.status.idle": "2024-03-23T15:14:06.939221Z",
     "shell.execute_reply": "2024-03-23T15:14:06.937759Z"
    },
    "papermill": {
     "duration": 0.080795,
     "end_time": "2024-03-23T15:14:06.941767",
     "exception": false,
     "start_time": "2024-03-23T15:14:06.860972",
     "status": "completed"
    },
    "tags": []
   },
   "outputs": [
    {
     "data": {
      "text/plain": [
       "HomePlanet      0\n",
       "CryoSleep       0\n",
       "Destination     0\n",
       "Age             0\n",
       "VIP             0\n",
       "RoomService     0\n",
       "FoodCourt       0\n",
       "ShoppingMall    0\n",
       "Spa             0\n",
       "VRDeck          0\n",
       "Transported     0\n",
       "Deck            0\n",
       "CabinNumber     0\n",
       "Side            0\n",
       "dtype: int64"
      ]
     },
     "execution_count": 10,
     "metadata": {},
     "output_type": "execute_result"
    }
   ],
   "source": [
    "from sklearn.impute import SimpleImputer\n",
    "\n",
    "for col in num_cols:\n",
    "    imp = SimpleImputer(strategy='mean')  #filling null cells for numerical columns with mean values\n",
    "    df[col] = imp.fit_transform(df[col].values.reshape(-1, 1))\n",
    "\n",
    "for col in cat_cols:\n",
    "    imp = SimpleImputer(strategy='most_frequent')\n",
    "    df[col] = imp.fit_transform(df[col].values.reshape(-1, 1)) #filling null cells for categorical columns with median values\n",
    "\n",
    "df.isnull().sum()"
   ]
  },
  {
   "cell_type": "code",
   "execution_count": 11,
   "id": "ceb662c0",
   "metadata": {
    "execution": {
     "iopub.execute_input": "2024-03-23T15:14:06.973632Z",
     "iopub.status.busy": "2024-03-23T15:14:06.973229Z",
     "iopub.status.idle": "2024-03-23T15:14:07.010116Z",
     "shell.execute_reply": "2024-03-23T15:14:07.008677Z"
    },
    "papermill": {
     "duration": 0.056186,
     "end_time": "2024-03-23T15:14:07.012887",
     "exception": false,
     "start_time": "2024-03-23T15:14:06.956701",
     "status": "completed"
    },
    "tags": []
   },
   "outputs": [
    {
     "data": {
      "text/plain": [
       "HomePlanet      0\n",
       "CryoSleep       0\n",
       "Destination     0\n",
       "Age             0\n",
       "VIP             0\n",
       "RoomService     0\n",
       "FoodCourt       0\n",
       "ShoppingMall    0\n",
       "Spa             0\n",
       "VRDeck          0\n",
       "Deck            0\n",
       "CabinNumber     0\n",
       "Side            0\n",
       "dtype: int64"
      ]
     },
     "execution_count": 11,
     "metadata": {},
     "output_type": "execute_result"
    }
   ],
   "source": [
    "for col in num_cols:\n",
    "    imp = SimpleImputer(strategy='mean')\n",
    "    df2[col] = imp.fit_transform(df2[col].values.reshape(-1, 1)) #filling null cells for numerical columns with mean values\n",
    "\n",
    "for col in cat_cols:\n",
    "    imp = SimpleImputer(strategy='most_frequent')\n",
    "    df2[col] = imp.fit_transform(df2[col].values.reshape(-1, 1)) #filling null cells for categorical columns with median values\n",
    "\n",
    "df2.isnull().sum()"
   ]
  },
  {
   "cell_type": "markdown",
   "id": "8c388d83",
   "metadata": {
    "papermill": {
     "duration": 0.014766,
     "end_time": "2024-03-23T15:14:07.042724",
     "exception": false,
     "start_time": "2024-03-23T15:14:07.027958",
     "status": "completed"
    },
    "tags": []
   },
   "source": [
    "# Data Visualisation\n",
    "Here we perform <i>Exploratory Data Analysis</i> to gather insights from the dataset. We shall be applying the insights later in the notebook"
   ]
  },
  {
   "cell_type": "code",
   "execution_count": 12,
   "id": "ff075ef4",
   "metadata": {
    "execution": {
     "iopub.execute_input": "2024-03-23T15:14:07.075231Z",
     "iopub.status.busy": "2024-03-23T15:14:07.074454Z",
     "iopub.status.idle": "2024-03-23T15:14:10.571969Z",
     "shell.execute_reply": "2024-03-23T15:14:10.571040Z"
    },
    "papermill": {
     "duration": 3.516787,
     "end_time": "2024-03-23T15:14:10.574662",
     "exception": false,
     "start_time": "2024-03-23T15:14:07.057875",
     "status": "completed"
    },
    "tags": []
   },
   "outputs": [
    {
     "data": {
      "image/png": "[encoded data removed]",
      "text/plain": [
       "<Figure size 2000x3000 with 6 Axes>"
      ]
     },
     "metadata": {},
     "output_type": "display_data"
    }
   ],
   "source": [
    "import seaborn as sns\n",
    "import matplotlib.pyplot as plt\n",
    "import warnings\n",
    "warnings.filterwarnings('ignore')\n",
    "plt.figure(figsize=(20,30))\n",
    "for i,col in enumerate(num_cols):\n",
    "    plt.subplot(6,3,i+1)\n",
    "    sns.distplot(x=df[col],color='purple',kde=True)\n",
    "    plt.xlabel(col)\n",
    "    plt.tight_layout()"
   ]
  },
  {
   "cell_type": "code",
   "execution_count": 13,
   "id": "a6e85369",
   "metadata": {
    "execution": {
     "iopub.execute_input": "2024-03-23T15:14:10.611495Z",
     "iopub.status.busy": "2024-03-23T15:14:10.610359Z",
     "iopub.status.idle": "2024-03-23T15:14:12.313645Z",
     "shell.execute_reply": "2024-03-23T15:14:12.312307Z"
    },
    "papermill": {
     "duration": 1.725485,
     "end_time": "2024-03-23T15:14:12.317081",
     "exception": false,
     "start_time": "2024-03-23T15:14:10.591596",
     "status": "completed"
    },
    "tags": []
   },
   "outputs": [
    {
     "data": {
      "image/png": "[encoded data removed]",
      "text/plain": [
       "<Figure size 2000x1000 with 5 Axes>"
      ]
     },
     "metadata": {},
     "output_type": "display_data"
    }
   ],
   "source": [
    "import matplotlib.pyplot as plt\n",
    "pie_cols=['HomePlanet','CryoSleep','Destination','Transported','VIP','Deck']\n",
    "plt.figure(figsize=(20,10))\n",
    "for i,col in enumerate(pie_cols):\n",
    "    counts = df[col].value_counts()\n",
    "    plt.subplot(2,3,i+1)\n",
    "    plt.pie(counts, labels=counts.index, autopct='%1.1f%%',shadow=True)\n",
    "    plt.title(col)\n",
    "    plt.legend(loc='best')\n",
    "    plt.tight_layout()\n",
    "plt.show()"
   ]
  },
  {
   "cell_type": "code",
   "execution_count": 14,
   "id": "a122e28e",
   "metadata": {
    "execution": {
     "iopub.execute_input": "2024-03-23T15:14:12.359653Z",
     "iopub.status.busy": "2024-03-23T15:14:12.359270Z",
     "iopub.status.idle": "2024-03-23T15:14:12.881038Z",
     "shell.execute_reply": "2024-03-23T15:14:12.879729Z"
    },
    "papermill": {
     "duration": 0.547348,
     "end_time": "2024-03-23T15:14:12.883878",
     "exception": false,
     "start_time": "2024-03-23T15:14:12.336530",
     "status": "completed"
    },
    "tags": []
   },
   "outputs": [
    {
     "data": {
      "text/plain": [
       "<Axes: >"
      ]
     },
     "execution_count": 14,
     "metadata": {},
     "output_type": "execute_result"
    },
    {
     "data": {
      "image/png": "[encoded data removed]",
      "text/plain": [
       "<Figure size 640x480 with 2 Axes>"
      ]
     },
     "metadata": {},
     "output_type": "display_data"
    }
   ],
   "source": [
    "sns.heatmap(data=df.corr(),cmap=\"YlGnBu\", annot=True)"
   ]
  },
  {
   "cell_type": "code",
   "execution_count": 15,
   "id": "48700e16",
   "metadata": {
    "execution": {
     "iopub.execute_input": "2024-03-23T15:14:12.928619Z",
     "iopub.status.busy": "2024-03-23T15:14:12.928184Z",
     "iopub.status.idle": "2024-03-23T15:14:13.189866Z",
     "shell.execute_reply": "2024-03-23T15:14:13.188921Z"
    },
    "papermill": {
     "duration": 0.287031,
     "end_time": "2024-03-23T15:14:13.192314",
     "exception": false,
     "start_time": "2024-03-23T15:14:12.905283",
     "status": "completed"
    },
    "tags": []
   },
   "outputs": [
    {
     "data": {
      "image/png": "[encoded data removed]",
      "text/plain": [
       "<Figure size 700x700 with 1 Axes>"
      ]
     },
     "metadata": {},
     "output_type": "display_data"
    }
   ],
   "source": [
    "import seaborn as sns\n",
    "plt.figure(figsize=(7,7))\n",
    "sns.countplot(x='Transported',hue='Destination',data=df)\n",
    "plt.show()"
   ]
  },
  {
   "cell_type": "code",
   "execution_count": 16,
   "id": "6487d103",
   "metadata": {
    "execution": {
     "iopub.execute_input": "2024-03-23T15:14:13.237234Z",
     "iopub.status.busy": "2024-03-23T15:14:13.236456Z",
     "iopub.status.idle": "2024-03-23T15:14:13.592712Z",
     "shell.execute_reply": "2024-03-23T15:14:13.591533Z"
    },
    "papermill": {
     "duration": 0.382325,
     "end_time": "2024-03-23T15:14:13.595840",
     "exception": false,
     "start_time": "2024-03-23T15:14:13.213515",
     "status": "completed"
    },
    "tags": []
   },
   "outputs": [
    {
     "data": {
      "image/png": "[encoded data removed]",
      "text/plain": [
       "<Figure size 1000x600 with 1 Axes>"
      ]
     },
     "metadata": {},
     "output_type": "display_data"
    }
   ],
   "source": [
    "subset_df = df[['Age', 'RoomService', 'FoodCourt', 'ShoppingMall', 'Spa', 'VRDeck', 'CabinNumber']]\n",
    "\n",
    "plt.figure(figsize=(10, 6))\n",
    "sns.boxplot(data=subset_df)\n",
    "plt.xlabel('Features')\n",
    "plt.ylabel('Values')\n",
    "plt.title('Distribution of Continuous Features')\n",
    "plt.show()"
   ]
  },
  {
   "cell_type": "markdown",
   "id": "2d5cca41",
   "metadata": {
    "papermill": {
     "duration": 0.022441,
     "end_time": "2024-03-23T15:14:13.640330",
     "exception": false,
     "start_time": "2024-03-23T15:14:13.617889",
     "status": "completed"
    },
    "tags": []
   },
   "source": [
    "<div style=\"background-color: #FDF1F2; display: flex; flex-direction: column; align-items: center; padding: 20px; border-radius: 10px;\">\n",
    "\n",
    "<h3 style=\"color: #9D38BD; text-align: center;\">Data Exploration Insights</h3>\n",
    "\n",
    "<ul style=\"list-style-type: disc; padding-left: 20px;\">\n",
    "  <li>\n",
    "    <b>Missing Values:</b>  The dataset has a significant amount of missing values in most features (except PassengerId and Transported). While there are no duplicate rows, handling missing values will be crucial.\n",
    "  </li>\n",
    "  <li>\n",
    "    <b>Feature Types:</b> After data cleaning, we have <b>{{ num_cols }}</b> numerical and <b>{{ cat_cols }}</b> categorical columns for further analysis.\n",
    "  </li>\n",
    "  <li>\n",
    "    <b>Unique Values:</b> PassengerId, Cabin, and Name columns likely contain unique values for individual passengers.\n",
    "  </li>\n",
    "  <li>\n",
    "    <b>Correlations:</b> High correlations exist between FoodCourt, Spa, and VRDeck features. Analyzing these relationships might be beneficial.\n",
    "  </li>\n",
    "</ul>\n",
    "\n",
    "</div>\n"
   ]
  },
  {
   "cell_type": "code",
   "execution_count": 17,
   "id": "5db682ca",
   "metadata": {
    "execution": {
     "iopub.execute_input": "2024-03-23T15:14:13.687374Z",
     "iopub.status.busy": "2024-03-23T15:14:13.686926Z",
     "iopub.status.idle": "2024-03-23T15:14:13.717832Z",
     "shell.execute_reply": "2024-03-23T15:14:13.716282Z"
    },
    "papermill": {
     "duration": 0.057986,
     "end_time": "2024-03-23T15:14:13.720471",
     "exception": false,
     "start_time": "2024-03-23T15:14:13.662485",
     "status": "completed"
    },
    "tags": []
   },
   "outputs": [
    {
     "data": {
      "text/html": [
       "<div>\n",
       "<style scoped>\n",
       "    .dataframe tbody tr th:only-of-type {\n",
       "        vertical-align: middle;\n",
       "    }\n",
       "\n",
       "    .dataframe tbody tr th {\n",
       "        vertical-align: top;\n",
       "    }\n",
       "\n",
       "    .dataframe thead th {\n",
       "        text-align: right;\n",
       "    }\n",
       "</style>\n",
       "<table border=\"1\" class=\"dataframe\">\n",
       "  <thead>\n",
       "    <tr style=\"text-align: right;\">\n",
       "      <th></th>\n",
       "      <th>HomePlanet</th>\n",
       "      <th>CryoSleep</th>\n",
       "      <th>Destination</th>\n",
       "      <th>Age</th>\n",
       "      <th>VIP</th>\n",
       "      <th>RoomService</th>\n",
       "      <th>FoodCourt</th>\n",
       "      <th>ShoppingMall</th>\n",
       "      <th>Spa</th>\n",
       "      <th>VRDeck</th>\n",
       "      <th>Deck</th>\n",
       "      <th>CabinNumber</th>\n",
       "      <th>Side</th>\n",
       "    </tr>\n",
       "  </thead>\n",
       "  <tbody>\n",
       "    <tr>\n",
       "      <th>0</th>\n",
       "      <td>Europa</td>\n",
       "      <td>0</td>\n",
       "      <td>TRAPPIST1e</td>\n",
       "      <td>39.0</td>\n",
       "      <td>0</td>\n",
       "      <td>0.0</td>\n",
       "      <td>0.0</td>\n",
       "      <td>0.0</td>\n",
       "      <td>0.0</td>\n",
       "      <td>0.0</td>\n",
       "      <td>B</td>\n",
       "      <td>0</td>\n",
       "      <td>P</td>\n",
       "    </tr>\n",
       "    <tr>\n",
       "      <th>1</th>\n",
       "      <td>Earth</td>\n",
       "      <td>0</td>\n",
       "      <td>TRAPPIST1e</td>\n",
       "      <td>24.0</td>\n",
       "      <td>0</td>\n",
       "      <td>109.0</td>\n",
       "      <td>9.0</td>\n",
       "      <td>25.0</td>\n",
       "      <td>549.0</td>\n",
       "      <td>44.0</td>\n",
       "      <td>F</td>\n",
       "      <td>0</td>\n",
       "      <td>S</td>\n",
       "    </tr>\n",
       "    <tr>\n",
       "      <th>2</th>\n",
       "      <td>Europa</td>\n",
       "      <td>0</td>\n",
       "      <td>TRAPPIST1e</td>\n",
       "      <td>58.0</td>\n",
       "      <td>1</td>\n",
       "      <td>43.0</td>\n",
       "      <td>3576.0</td>\n",
       "      <td>0.0</td>\n",
       "      <td>6715.0</td>\n",
       "      <td>49.0</td>\n",
       "      <td>A</td>\n",
       "      <td>0</td>\n",
       "      <td>S</td>\n",
       "    </tr>\n",
       "    <tr>\n",
       "      <th>3</th>\n",
       "      <td>Europa</td>\n",
       "      <td>0</td>\n",
       "      <td>TRAPPIST1e</td>\n",
       "      <td>33.0</td>\n",
       "      <td>0</td>\n",
       "      <td>0.0</td>\n",
       "      <td>1283.0</td>\n",
       "      <td>371.0</td>\n",
       "      <td>3329.0</td>\n",
       "      <td>193.0</td>\n",
       "      <td>A</td>\n",
       "      <td>0</td>\n",
       "      <td>S</td>\n",
       "    </tr>\n",
       "    <tr>\n",
       "      <th>4</th>\n",
       "      <td>Earth</td>\n",
       "      <td>0</td>\n",
       "      <td>TRAPPIST1e</td>\n",
       "      <td>16.0</td>\n",
       "      <td>0</td>\n",
       "      <td>303.0</td>\n",
       "      <td>70.0</td>\n",
       "      <td>151.0</td>\n",
       "      <td>565.0</td>\n",
       "      <td>2.0</td>\n",
       "      <td>F</td>\n",
       "      <td>1</td>\n",
       "      <td>S</td>\n",
       "    </tr>\n",
       "    <tr>\n",
       "      <th>...</th>\n",
       "      <td>...</td>\n",
       "      <td>...</td>\n",
       "      <td>...</td>\n",
       "      <td>...</td>\n",
       "      <td>...</td>\n",
       "      <td>...</td>\n",
       "      <td>...</td>\n",
       "      <td>...</td>\n",
       "      <td>...</td>\n",
       "      <td>...</td>\n",
       "      <td>...</td>\n",
       "      <td>...</td>\n",
       "      <td>...</td>\n",
       "    </tr>\n",
       "    <tr>\n",
       "      <th>8688</th>\n",
       "      <td>Europa</td>\n",
       "      <td>0</td>\n",
       "      <td>55 Cancri e</td>\n",
       "      <td>41.0</td>\n",
       "      <td>1</td>\n",
       "      <td>0.0</td>\n",
       "      <td>6819.0</td>\n",
       "      <td>0.0</td>\n",
       "      <td>1643.0</td>\n",
       "      <td>74.0</td>\n",
       "      <td>A</td>\n",
       "      <td>98</td>\n",
       "      <td>P</td>\n",
       "    </tr>\n",
       "    <tr>\n",
       "      <th>8689</th>\n",
       "      <td>Earth</td>\n",
       "      <td>1</td>\n",
       "      <td>PSO J318.522</td>\n",
       "      <td>18.0</td>\n",
       "      <td>0</td>\n",
       "      <td>0.0</td>\n",
       "      <td>0.0</td>\n",
       "      <td>0.0</td>\n",
       "      <td>0.0</td>\n",
       "      <td>0.0</td>\n",
       "      <td>G</td>\n",
       "      <td>1499</td>\n",
       "      <td>S</td>\n",
       "    </tr>\n",
       "    <tr>\n",
       "      <th>8690</th>\n",
       "      <td>Earth</td>\n",
       "      <td>0</td>\n",
       "      <td>TRAPPIST1e</td>\n",
       "      <td>26.0</td>\n",
       "      <td>0</td>\n",
       "      <td>0.0</td>\n",
       "      <td>0.0</td>\n",
       "      <td>1872.0</td>\n",
       "      <td>1.0</td>\n",
       "      <td>0.0</td>\n",
       "      <td>G</td>\n",
       "      <td>1500</td>\n",
       "      <td>S</td>\n",
       "    </tr>\n",
       "    <tr>\n",
       "      <th>8691</th>\n",
       "      <td>Europa</td>\n",
       "      <td>0</td>\n",
       "      <td>55 Cancri e</td>\n",
       "      <td>32.0</td>\n",
       "      <td>0</td>\n",
       "      <td>0.0</td>\n",
       "      <td>1049.0</td>\n",
       "      <td>0.0</td>\n",
       "      <td>353.0</td>\n",
       "      <td>3235.0</td>\n",
       "      <td>E</td>\n",
       "      <td>608</td>\n",
       "      <td>S</td>\n",
       "    </tr>\n",
       "    <tr>\n",
       "      <th>8692</th>\n",
       "      <td>Europa</td>\n",
       "      <td>0</td>\n",
       "      <td>TRAPPIST1e</td>\n",
       "      <td>44.0</td>\n",
       "      <td>0</td>\n",
       "      <td>126.0</td>\n",
       "      <td>4688.0</td>\n",
       "      <td>0.0</td>\n",
       "      <td>0.0</td>\n",
       "      <td>12.0</td>\n",
       "      <td>E</td>\n",
       "      <td>608</td>\n",
       "      <td>S</td>\n",
       "    </tr>\n",
       "  </tbody>\n",
       "</table>\n",
       "<p>8693 rows × 13 columns</p>\n",
       "</div>"
      ],
      "text/plain": [
       "     HomePlanet CryoSleep   Destination   Age VIP  RoomService  FoodCourt  \\\n",
       "0        Europa         0    TRAPPIST1e  39.0   0          0.0        0.0   \n",
       "1         Earth         0    TRAPPIST1e  24.0   0        109.0        9.0   \n",
       "2        Europa         0    TRAPPIST1e  58.0   1         43.0     3576.0   \n",
       "3        Europa         0    TRAPPIST1e  33.0   0          0.0     1283.0   \n",
       "4         Earth         0    TRAPPIST1e  16.0   0        303.0       70.0   \n",
       "...         ...       ...           ...   ...  ..          ...        ...   \n",
       "8688     Europa         0   55 Cancri e  41.0   1          0.0     6819.0   \n",
       "8689      Earth         1  PSO J318.522  18.0   0          0.0        0.0   \n",
       "8690      Earth         0    TRAPPIST1e  26.0   0          0.0        0.0   \n",
       "8691     Europa         0   55 Cancri e  32.0   0          0.0     1049.0   \n",
       "8692     Europa         0    TRAPPIST1e  44.0   0        126.0     4688.0   \n",
       "\n",
       "      ShoppingMall     Spa  VRDeck Deck CabinNumber Side  \n",
       "0              0.0     0.0     0.0    B           0    P  \n",
       "1             25.0   549.0    44.0    F           0    S  \n",
       "2              0.0  6715.0    49.0    A           0    S  \n",
       "3            371.0  3329.0   193.0    A           0    S  \n",
       "4            151.0   565.0     2.0    F           1    S  \n",
       "...            ...     ...     ...  ...         ...  ...  \n",
       "8688           0.0  1643.0    74.0    A          98    P  \n",
       "8689           0.0     0.0     0.0    G        1499    S  \n",
       "8690        1872.0     1.0     0.0    G        1500    S  \n",
       "8691           0.0   353.0  3235.0    E         608    S  \n",
       "8692           0.0     0.0    12.0    E         608    S  \n",
       "\n",
       "[8693 rows x 13 columns]"
      ]
     },
     "execution_count": 17,
     "metadata": {},
     "output_type": "execute_result"
    }
   ],
   "source": [
    "X,y=df.drop(['Transported'],axis=1),df['Transported']\n",
    "X"
   ]
  },
  {
   "cell_type": "code",
   "execution_count": 18,
   "id": "82b3db80",
   "metadata": {
    "execution": {
     "iopub.execute_input": "2024-03-23T15:14:13.768528Z",
     "iopub.status.busy": "2024-03-23T15:14:13.767887Z",
     "iopub.status.idle": "2024-03-23T15:14:13.775100Z",
     "shell.execute_reply": "2024-03-23T15:14:13.774281Z"
    },
    "papermill": {
     "duration": 0.033605,
     "end_time": "2024-03-23T15:14:13.777190",
     "exception": false,
     "start_time": "2024-03-23T15:14:13.743585",
     "status": "completed"
    },
    "tags": []
   },
   "outputs": [
    {
     "data": {
      "text/plain": [
       "0       False\n",
       "1        True\n",
       "2       False\n",
       "3       False\n",
       "4        True\n",
       "        ...  \n",
       "8688    False\n",
       "8689    False\n",
       "8690     True\n",
       "8691    False\n",
       "8692     True\n",
       "Name: Transported, Length: 8693, dtype: bool"
      ]
     },
     "execution_count": 18,
     "metadata": {},
     "output_type": "execute_result"
    }
   ],
   "source": [
    "y"
   ]
  },
  {
   "cell_type": "code",
   "execution_count": 19,
   "id": "74e59744",
   "metadata": {
    "execution": {
     "iopub.execute_input": "2024-03-23T15:14:13.825445Z",
     "iopub.status.busy": "2024-03-23T15:14:13.824751Z",
     "iopub.status.idle": "2024-03-23T15:14:13.832002Z",
     "shell.execute_reply": "2024-03-23T15:14:13.830984Z"
    },
    "papermill": {
     "duration": 0.034467,
     "end_time": "2024-03-23T15:14:13.834087",
     "exception": false,
     "start_time": "2024-03-23T15:14:13.799620",
     "status": "completed"
    },
    "tags": []
   },
   "outputs": [
    {
     "data": {
      "text/plain": [
       "Index(['Age', 'RoomService', 'FoodCourt', 'ShoppingMall', 'Spa', 'VRDeck'], dtype='object')"
      ]
     },
     "execution_count": 19,
     "metadata": {},
     "output_type": "execute_result"
    }
   ],
   "source": [
    "num_cols=df.select_dtypes(include=['float64']).columns\n",
    "num_cols"
   ]
  },
  {
   "cell_type": "markdown",
   "id": "04a6709c",
   "metadata": {
    "papermill": {
     "duration": 0.022311,
     "end_time": "2024-03-23T15:14:13.878854",
     "exception": false,
     "start_time": "2024-03-23T15:14:13.856543",
     "status": "completed"
    },
    "tags": []
   },
   "source": [
    "# Feature Scaling \n",
    "We use <i>Label Encoder</i> for Encoding Categorical Features and <i>Standard Scaler</i> for normalising the numerical features"
   ]
  },
  {
   "cell_type": "markdown",
   "id": "5a2f7a0c",
   "metadata": {
    "papermill": {
     "duration": 0.022664,
     "end_time": "2024-03-23T15:14:13.924073",
     "exception": false,
     "start_time": "2024-03-23T15:14:13.901409",
     "status": "completed"
    },
    "tags": []
   },
   "source": [
    "<div style=\"background-color: #F8F9FC; display: flex; flex-direction: column; align-items: center; padding: 20px; border-radius: 10px;\">\n",
    "\n",
    "<h3 style=\"color: #29ABCA; text-align: center;\">Data Preprocessing for Modeling</h3>\n",
    "\n",
    "<p style=\"font-size: 16px;\">\n",
    "We've prepared the data for model training by performing the following steps:\n",
    "</p>\n",
    "\n",
    "<ol style=\"list-style-type: disc; padding-left: 20px;\">\n",
    "  <li>\n",
    "    <b>Train-Test Split:</b> Divided the data into training (75%) and testing (25%) sets using `train_test_split`.\n",
    "  </li>\n",
    "  <li>\n",
    "    <b>Categorical Encoding:</b> Converted categorical columns ({{ cat_cols }}) to string format for compatibility with the encoder.\n",
    "  </li>\n",
    "  <li>\n",
    "    <b>Feature Scaling:</b> Standardized numerical columns ({{ num_cols }}) using `StandardScaler` for better model performance.\n",
    "  </li>\n",
    "  <li>\n",
    "    <b>One-Hot Encoding:</b> Applied `OneHotEncoder` to create dummy variables for categorical features, handling unknown categories with 'ignore'.\n",
    "  </li>\n",
    "  <li>\n",
    "    <b>Feature Concatenation:</b> Combined the encoded categorical features with the scaled numerical features into `X_train_processed`, `X_test_processed`, and `df2_processed` for model training and prediction.\n",
    "  </li>\n",
    "</ol>\n",
    "\n",
    "</div>\n"
   ]
  },
  {
   "cell_type": "code",
   "execution_count": 20,
   "id": "be4ff455",
   "metadata": {
    "execution": {
     "iopub.execute_input": "2024-03-23T15:14:13.971439Z",
     "iopub.status.busy": "2024-03-23T15:14:13.971030Z",
     "iopub.status.idle": "2024-03-23T15:14:14.348142Z",
     "shell.execute_reply": "2024-03-23T15:14:14.346834Z"
    },
    "papermill": {
     "duration": 0.404057,
     "end_time": "2024-03-23T15:14:14.350840",
     "exception": false,
     "start_time": "2024-03-23T15:14:13.946783",
     "status": "completed"
    },
    "tags": []
   },
   "outputs": [
    {
     "data": {
      "text/plain": [
       "array([[ 0.        ,  0.        ,  1.        , ...,  0.36185473,\n",
       "         0.14078144, -0.26307719],\n",
       "       [ 0.        ,  1.        ,  0.        , ..., -0.28559537,\n",
       "        -0.28424864, -0.26307719],\n",
       "       [ 0.        ,  1.        ,  0.        , ..., -0.28559537,\n",
       "        -0.28424864, -0.26307719],\n",
       "       ...,\n",
       "       [ 1.        ,  0.        ,  0.        , ...,  0.4906924 ,\n",
       "        -0.28424864, -0.24084656],\n",
       "       [ 0.        ,  0.        ,  1.        , ...,  2.36617757,\n",
       "        -0.28424864, -0.26307719],\n",
       "       [ 0.        ,  1.        ,  0.        , ..., -0.28559537,\n",
       "        -0.28063904,  4.89015367]])"
      ]
     },
     "execution_count": 20,
     "metadata": {},
     "output_type": "execute_result"
    }
   ],
   "source": [
    "from sklearn.model_selection import train_test_split\n",
    "from sklearn.preprocessing import StandardScaler, LabelEncoder\n",
    "\n",
    "X_train, X_test, y_train, y_test = train_test_split(X, y, random_state=42, test_size=0.25)\n",
    "\n",
    "# X_train.drop(['Cabin'])\n",
    "# X_test.drop(['Cabin'])\n",
    "\n",
    "# Convert categorical columns to string type\n",
    "X_train[cat_cols] = X_train[cat_cols].astype(str)\n",
    "X_test[cat_cols] = X_test[cat_cols].astype(str)\n",
    "df2[cat_cols] = df2[cat_cols].astype(str)\n",
    "\n",
    "# Scale the numerical columns\n",
    "scaler = StandardScaler()\n",
    "X_train[num_cols] = scaler.fit_transform(X_train[num_cols])\n",
    "X_test[num_cols] = scaler.transform(X_test[num_cols])\n",
    "df2[num_cols] = scaler.transform(df2[num_cols])\n",
    "\n",
    "# Create an instance of LabelEncoder for encoding categorical features\n",
    "encoder = OneHotEncoder(sparse=False, handle_unknown='ignore')\n",
    "X_train_encoded = encoder.fit_transform(X_train[cat_cols])\n",
    "X_test_encoded = encoder.transform(X_test[cat_cols])\n",
    "df2_encoded = encoder.transform(df2[cat_cols])\n",
    "\n",
    "# Concatenate encoded features with numerical features\n",
    "X_train_processed = np.concatenate([X_train_encoded, X_train[num_cols]], axis=1)\n",
    "X_test_processed = np.concatenate([X_test_encoded, X_test[num_cols]], axis=1)\n",
    "df2_processed = np.concatenate([df2_encoded, df2[num_cols]], axis=1)\n",
    "\n",
    "X_train_processed"
   ]
  },
  {
   "cell_type": "code",
   "execution_count": 21,
   "id": "05fbc6cb",
   "metadata": {
    "execution": {
     "iopub.execute_input": "2024-03-23T15:14:14.399311Z",
     "iopub.status.busy": "2024-03-23T15:14:14.398281Z",
     "iopub.status.idle": "2024-03-23T15:14:14.405737Z",
     "shell.execute_reply": "2024-03-23T15:14:14.404326Z"
    },
    "papermill": {
     "duration": 0.034171,
     "end_time": "2024-03-23T15:14:14.408088",
     "exception": false,
     "start_time": "2024-03-23T15:14:14.373917",
     "status": "completed"
    },
    "tags": []
   },
   "outputs": [
    {
     "data": {
      "text/plain": [
       "array([[ 1.        ,  0.        ,  0.        , ..., -0.28559537,\n",
       "        -0.28424864, -0.26307719],\n",
       "       [ 1.        ,  0.        ,  0.        , ..., -0.28559537,\n",
       "         2.26322465, -0.26307719],\n",
       "       [ 0.        ,  1.        ,  0.        , ..., -0.28559537,\n",
       "        -0.28424864, -0.26307719],\n",
       "       ...,\n",
       "       [ 0.        ,  0.        ,  1.        , ..., -0.28559537,\n",
       "        -0.28424864, -0.26307719],\n",
       "       [ 0.        ,  1.        ,  0.        , ..., -0.28559537,\n",
       "        -0.28424864,  0.18410047],\n",
       "       [ 1.        ,  0.        ,  0.        , ..., -0.28559537,\n",
       "        -0.28424864, -0.26307719]])"
      ]
     },
     "execution_count": 21,
     "metadata": {},
     "output_type": "execute_result"
    }
   ],
   "source": [
    "df2_processed"
   ]
  },
  {
   "cell_type": "markdown",
   "id": "b794868a",
   "metadata": {
    "papermill": {
     "duration": 0.023736,
     "end_time": "2024-03-23T15:14:14.455086",
     "exception": false,
     "start_time": "2024-03-23T15:14:14.431350",
     "status": "completed"
    },
    "tags": []
   },
   "source": [
    "<div style=\"background-color: #F8F9FC; display: flex; flex-direction: column; align-items: center; padding: 20px; border-radius: 10px;\">\n",
    "\n",
    "<h3 style=\"color: #29ABCA; text-align: center;\">Building Neural Network Models</h3>\n",
    "\n",
    "<p style=\"font-size: 16px;\">\n",
    "Now, let's construct and train our neural network models! We'll leverage TensorFlow's Keras API for this purpose.\n",
    "</p>\n",
    "\n",
    "**1. Importing Libraries:**\n",
    "\n",
    "```python\n",
    "from tensorflow.keras.layers import BatchNormalization, LeakyReLU\n"
   ]
  },
  {
   "cell_type": "markdown",
   "id": "62dabf3c",
   "metadata": {
    "papermill": {
     "duration": 0.022864,
     "end_time": "2024-03-23T15:14:14.500828",
     "exception": false,
     "start_time": "2024-03-23T15:14:14.477964",
     "status": "completed"
    },
    "tags": []
   },
   "source": [
    "<div style=\"background-color: #F8F9FC; display: flex; flex-direction: column; align-items: center; padding: 20px; border-radius: 10px;\">\n",
    "\n",
    "<h3 style=\"color: #29ABCA; text-align: center;\">Building Neural Network Models</h3>\n",
    "\n",
    "<p style=\"font-size: 16px;\">\n",
    "  We'll construct and train multiple neural network models using TensorFlow's Keras API. This section explains the key components involved:\n",
    "</p>\n",
    "\n",
    "<ul style=\"list-style-type: disc; padding-left: 20px;\">\n",
    "  <li>\n",
    "    **Importing Libraries:** We'll use specific layers to enhance the model architecture.\n",
    "    <ul style=\"list-style-type: circle; padding-left: 20px;\">\n",
    "      <li>\n",
    "        <b>BatchNormalization:</b> Normalizes activations within mini-batches during training, improving speed and stability.\n",
    "      </li>\n",
    "      <li>\n",
    "        <b>LeakyReLU:</b> An activation function similar to ReLU but with a small non-zero slope for negative values, potentially preventing \"dying ReLU\" issues.\n",
    "      </li>\n",
    "    </ul>\n",
    "  </li>\n",
    "  <li>\n",
    "    **Model Creation Function (`create_model`):** This function defines the model architecture.\n",
    "    <ul style=\"list-style-type: circle; padding-left: 20px;\">\n",
    "      <li>\n",
    "        <b>Sequential Model:</b> A common approach for building neural networks layer by layer.\n",
    "      </li>\n",
    "      <li>\n",
    "        <b>Dense Layers (128, 64, 32 neurons):</b> Perform linear transformations on the data.\n",
    "      </li>\n",
    "      <li>\n",
    "        <b>BatchNormalization + LeakyReLU:</b> Applied after each dense layer for better training and performance.\n",
    "      </li>\n",
    "      <li>\n",
    "        <b>Dropout (0.5):</b> Randomly drops neurons during training to prevent overfitting.\n",
    "      </li>\n",
    "      <li>\n",
    "        <b>Final Layer (1 neuron, sigmoid activation):</b> Suitable for binary classification (output of 0 or 1).\n",
    "      </li>\n",
    "      <li>\n",
    "        <b>Model Compilation:</b> Adam optimizer, binary crossentropy loss, and accuracy metric.\n",
    "      </li>\n",
    "    </ul>\n",
    "  </li>\n",
    "  <li>\n",
    "    **Training Multiple Models:** We'll train three separate instances of the `create_model` function.\n",
    "    <ul style=\"list-style-type: circle; padding-left: 20px;\">\n",
    "      <li>\n",
    "        <b>Iterations:</b> The code iterates three times (`range(3)`) to create and train three models.\n",
    "      </li>\n",
    "      <li>\n",
    "        <b>Training Parameters:</b> Each model is trained for 20 epochs (iterations) with a batch size of 32 samples.\n",
    "      </li>\n",
    "      <li>\n",
    "        <b>Storing Models:</b> Trained models are stored in a list named `models` for later use.\n",
    "      </li>\n",
    "    </ul>\n",
    "  </li>\n",
    "</ul>\n",
    "\n",
    "<p style=\"font-size: 16px; margin-top: 20px;\"><b>Learning Resources:</b></p>\n",
    "\n",
    "<ul style=\"list-style-type: disc; padding-left: 20px;\">\n",
    "  <li><a href=\"https://www.tensorflow.org/tutorials/quickstart/beginner\" style=\"color: #29ABCA;\">TensorFlow Keras Guides</a></li>\n",
    "  <li><a href=\"https://machinelearningmastery.com/batch-normalization-explained/\" style=\"color: #29ABCA;\">Batch Normalization Explained</a></li>\n",
    "  <li><a href=\"https://www.linkedin.com/pulse/activation-function-machine-learning-dhiraj-patra-3hdzc\" style=\"color: #29ABCA;\">Understanding LeakyReLU</a></li>\n",
    "</ul>\n",
    "\n",
    "</div>\n"
   ]
  },
  {
   "cell_type": "code",
   "execution_count": 22,
   "id": "65ba3211",
   "metadata": {
    "execution": {
     "iopub.execute_input": "2024-03-23T15:14:14.550307Z",
     "iopub.status.busy": "2024-03-23T15:14:14.549511Z",
     "iopub.status.idle": "2024-03-23T15:15:49.778594Z",
     "shell.execute_reply": "2024-03-23T15:15:49.777463Z"
    },
    "papermill": {
     "duration": 95.257303,
     "end_time": "2024-03-23T15:15:49.781417",
     "exception": false,
     "start_time": "2024-03-23T15:14:14.524114",
     "status": "completed"
    },
    "tags": []
   },
   "outputs": [],
   "source": [
    "# Build neural network models\n",
    "from tensorflow.keras.layers import BatchNormalization, LeakyReLU\n",
    "\n",
    "def create_model(input_dim):\n",
    "    model = Sequential([\n",
    "        Dense(128, input_dim=input_dim),\n",
    "        BatchNormalization(),\n",
    "        LeakyReLU(alpha=0.1),\n",
    "        Dropout(0.5),\n",
    "        Dense(64),\n",
    "        BatchNormalization(),\n",
    "        LeakyReLU(alpha=0.1),\n",
    "        Dropout(0.5),\n",
    "        Dense(32),\n",
    "        BatchNormalization(),\n",
    "        LeakyReLU(alpha=0.1),\n",
    "        Dropout(0.5),\n",
    "        Dense(1, activation='sigmoid')\n",
    "    ])\n",
    "    model.compile(optimizer='adam', loss='binary_crossentropy', metrics=['accuracy'])\n",
    "    return model\n",
    "\n",
    "# Train individual models\n",
    "models = []\n",
    "for i in range(3):  # Train 3 different models\n",
    "    model = create_model(X_train_processed.shape[1])\n",
    "    model.fit(X_train_processed, y_train, epochs=20, batch_size=32, verbose=0)\n",
    "    models.append(model)"
   ]
  },
  {
   "cell_type": "code",
   "execution_count": 23,
   "id": "2191aa4b",
   "metadata": {
    "execution": {
     "iopub.execute_input": "2024-03-23T15:15:49.830025Z",
     "iopub.status.busy": "2024-03-23T15:15:49.829599Z",
     "iopub.status.idle": "2024-03-23T15:15:51.160588Z",
     "shell.execute_reply": "2024-03-23T15:15:51.159312Z"
    },
    "papermill": {
     "duration": 1.358671,
     "end_time": "2024-03-23T15:15:51.163314",
     "exception": false,
     "start_time": "2024-03-23T15:15:49.804643",
     "status": "completed"
    },
    "tags": []
   },
   "outputs": [
    {
     "name": "stdout",
     "output_type": "stream",
     "text": [
      "68/68 [==============================] - 0s 2ms/step\n",
      "68/68 [==============================] - 0s 2ms/step\n",
      "68/68 [==============================] - 0s 2ms/step\n",
      "Ensemble Accuracy: 0.749770009199632\n"
     ]
    }
   ],
   "source": [
    "# Make predictions\n",
    "predictions = []\n",
    "for model in models:\n",
    "    predictions.append(model.predict(X_test_processed))\n",
    "\n",
    "# Ensemble models\n",
    "ensemble_pred = tf.reduce_mean(predictions, axis=0)\n",
    "ensemble_pred_classes = np.array(ensemble_pred > 0.5, dtype=int)\n",
    "\n",
    "# Evaluate ensemble\n",
    "ensemble_accuracy = accuracy_score(y_test, ensemble_pred_classes)\n",
    "print(\"Ensemble Accuracy:\", ensemble_accuracy)"
   ]
  },
  {
   "cell_type": "markdown",
   "id": "2683603f",
   "metadata": {
    "papermill": {
     "duration": 0.023949,
     "end_time": "2024-03-23T15:15:51.213053",
     "exception": false,
     "start_time": "2024-03-23T15:15:51.189104",
     "status": "completed"
    },
    "tags": []
   },
   "source": [
    "# Model Builing, using Gaussian Naive Bayes"
   ]
  },
  {
   "cell_type": "markdown",
   "id": "597f381b",
   "metadata": {
    "papermill": {
     "duration": 0.024665,
     "end_time": "2024-03-23T15:15:51.261422",
     "exception": false,
     "start_time": "2024-03-23T15:15:51.236757",
     "status": "completed"
    },
    "tags": []
   },
   "source": [
    "<div style=\"background-color: #F8F9FC; display: flex; flex-direction: column; align-items: center; padding: 20px; border-radius: 10px;\">\n",
    "\n",
    "<h3 style=\"color: #29ABCA; text-align: center;\">Using GaussianNB for Classification</h3>\n",
    "\n",
    "<p style=\"font-size: 16px;\">\n",
    "  The `GaussianNB` classifier from scikit-learn is a powerful tool for various classification tasks. This section provides a beginner-friendly explanation of its functionality and how to use it.\n",
    "</p>\n",
    "\n",
    "<ul style=\"list-style-type: disc; padding-left: 20px;\">\n",
    "  <li>\n",
    "    **Importing the Model:**\n",
    "    <pre style=\"background-color: #F2F2F2; padding: 10px; border-radius: 5px;\">\n",
    "      <code>from sklearn.naive_bayes import GaussianNB</code>\n",
    "    </pre>\n",
    "    We import the `GaussianNB` class from the `sklearn.naive_bayes` module. This class implements the Naive Bayes algorithm with a Gaussian (normal) distribution assumption for the features.\n",
    "  </li>\n",
    "  <li>\n",
    "    **Creating a GaussianNB Model:**\n",
    "    <pre style=\"background-color: #F2F2F2; padding: 10px; border-radius: 5px;\">\n",
    "      <code>model = GaussianNB()</code>\n",
    "    </pre>\n",
    "    Here, we create a `GaussianNB` model object. By default, it uses settings optimized for many classification problems. You can also customize these settings if needed.\n",
    "  </li>\n",
    "  <li>\n",
    "    **Training the Model:**\n",
    "    <pre style=\"background-color: #F2F2F2; padding: 10px; border-radius: 5px;\">\n",
    "      <code>model.fit(X_train_processed, y_train)</code>\n",
    "    </pre>\n",
    "    This line trains the model using the training data:\n",
    "    <ul style=\"list-style-type: circle; padding-left: 20px;\">\n",
    "      <li>\n",
    "        <b>`X_train_processed`</b>: The training data containing features (think of these as characteristics of your data points).\n",
    "      </li>\n",
    "      <li>\n",
    "        <b>`y_train`</b>: The corresponding target labels (think of these as the known classifications for the training data).\n",
    "      </li>\n",
    "    </ul>\n",
    "    During training, the model learns the probability distribution of features for each class (e.g., 0 or 1 in binary classification).\n",
    "  </li>\n",
    "  <li>\n",
    "    **Making Predictions:**\n",
    "    <pre style=\"background-color: #F2F2F2; padding: 10px; border-radius: 5px;\">\n",
    "      <code>y_pred = model.predict(X_test_processed)</code>\n",
    "    </pre>\n",
    "    We use the trained model to predict the class labels for unseen data (`X_test_processed`). The predicted labels are stored in the `y_pred` variable.\n",
    "  </li>\n",
    "</ul>\n",
    "\n",
    "<h3 style=\"color: #29ABCA; text-align: center;\">Understanding GaussianNB</h3>\n",
    "\n",
    "<p style=\"font-size: 16px;\">\n",
    "  GaussianNB is a simple and efficient classifier that works well when features are continuous (numerical) and follow a normal distribution (bell-shaped curve). It assumes features within each class are independent (not directly influencing each other). \n",
    "</p>\n",
    "\n",
    "<p style=\"font-size: 16px;\">\n",
    "  Imagine you have a basket of fruits (apples, oranges) and want to predict a new fruit's type based on its size, color, and weight. GaussianNB works similarly, but mathematically, to classify data points.\n",
    "</p>\n",
    "\n",
    "<ul style=\"list-style-type: disc; padding-left: 20px;\">\n",
    "  <li><b>Easy to use and computationally efficient.</b></li>\n",
    "  <li><b>Well-suited for continuous features with a normal distribution.</b></li>\n",
    "  <li><b>May not be ideal for complex relationships between features.</b></li>\n",
    "</ul>\n"
   ]
  },
  {
   "cell_type": "code",
   "execution_count": 24,
   "id": "5e8b2998",
   "metadata": {
    "execution": {
     "iopub.execute_input": "2024-03-23T15:15:51.311144Z",
     "iopub.status.busy": "2024-03-23T15:15:51.310718Z",
     "iopub.status.idle": "2024-03-23T15:15:51.579471Z",
     "shell.execute_reply": "2024-03-23T15:15:51.578365Z"
    },
    "papermill": {
     "duration": 0.29677,
     "end_time": "2024-03-23T15:15:51.581925",
     "exception": false,
     "start_time": "2024-03-23T15:15:51.285155",
     "status": "completed"
    },
    "tags": []
   },
   "outputs": [
    {
     "data": {
      "text/plain": [
       "array([ True, False,  True, ...,  True,  True,  True])"
      ]
     },
     "execution_count": 24,
     "metadata": {},
     "output_type": "execute_result"
    }
   ],
   "source": [
    "from sklearn.naive_bayes import GaussianNB\n",
    "model=GaussianNB()\n",
    "model.fit(X_train_processed,y_train)\n",
    "y_pred=model.predict(X_test_processed)\n",
    "y_pred[:]"
   ]
  },
  {
   "cell_type": "code",
   "execution_count": 25,
   "id": "5afacea9",
   "metadata": {
    "execution": {
     "iopub.execute_input": "2024-03-23T15:15:51.632721Z",
     "iopub.status.busy": "2024-03-23T15:15:51.632314Z",
     "iopub.status.idle": "2024-03-23T15:15:51.643256Z",
     "shell.execute_reply": "2024-03-23T15:15:51.641972Z"
    },
    "papermill": {
     "duration": 0.039023,
     "end_time": "2024-03-23T15:15:51.645844",
     "exception": false,
     "start_time": "2024-03-23T15:15:51.606821",
     "status": "completed"
    },
    "tags": []
   },
   "outputs": [
    {
     "data": {
      "text/plain": [
       "0.5349586016559338"
      ]
     },
     "execution_count": 25,
     "metadata": {},
     "output_type": "execute_result"
    }
   ],
   "source": [
    "from sklearn.metrics import accuracy_score\n",
    "score=accuracy_score(y_pred,y_test)\n",
    "score"
   ]
  },
  {
   "cell_type": "markdown",
   "id": "78e12d40",
   "metadata": {
    "papermill": {
     "duration": 0.023848,
     "end_time": "2024-03-23T15:15:51.695965",
     "exception": false,
     "start_time": "2024-03-23T15:15:51.672117",
     "status": "completed"
    },
    "tags": []
   },
   "source": [
    "# Performing Hyperparameter tuning for the Gaussian Naive Bayes model"
   ]
  },
  {
   "cell_type": "markdown",
   "id": "3dcc5e76",
   "metadata": {
    "papermill": {
     "duration": 0.024289,
     "end_time": "2024-03-23T15:15:51.745940",
     "exception": false,
     "start_time": "2024-03-23T15:15:51.721651",
     "status": "completed"
    },
    "tags": []
   },
   "source": [
    "<div style=\"background-color: #F8F9FC; display: flex; flex-direction: column; align-items: center; padding: 20px; border-radius: 10px;\">\n",
    "\n",
    "<h2 style=\"color: #29ABCA; text-align: center;\">Hyperparameter Tuning Explained</h2>\n",
    "\n",
    "<p style=\"font-size: 16px;\">\n",
    "  Finding the optimal hyperparameters for your machine learning model can be like baking a cake (training a model) and finding the perfect recipe. GridSearchCV from `sklearn.model_selection` automates this process, acting as your sous chef!\n",
    "</p>\n",
    "\n",
    "<ul style=\"list-style-type: disc; padding-left: 20px;\">\n",
    "  <li>\n",
    "    <b>Define the Recipe (Model):</b> You first create a model object, like a GaussianNB model in this case. This is the base recipe you'll be working with.\n",
    "  </li>\n",
    "  <li>\n",
    "    <b>Ingredient Variations (Hyperparameters):</b> Imagine different flour types, sugar quantities, or baking times. These are like hyperparameters, model settings you can adjust to influence performance. You specify which hyperparameters you want to try different values for.\n",
    "  </li>\n",
    "  <li>\n",
    "    <b>GridSearchCV as Your Sous Chef:</b> This powerful tool takes your model and systematically tries all combinations of the hyperparameter values you defined. It then evaluates each combination using cross-validation, which is like conducting multiple taste tests to see which combination yields the best results.\n",
    "  </li>\n",
    "  <li>\n",
    "    <b>The Winning Recipe:</b> After evaluating all combinations, GridSearchCV identifies the model configuration (hyperparameter combination) that achieved the best performance (score). This becomes your \"winning recipe\" for the machine learning task.\n",
    "  </li>\n",
    "</ul>\n",
    "\n",
    "<h3 style=\"color: #29ABCA; text-align: center;\">Benefits of GridSearchCV</h3>\n",
    "\n",
    "<ul style=\"list-style-type: disc; padding-left: 20px;\">\n",
    "  <li><b>Saves Time and Effort:</b> GridSearchCV automates the hyperparameter tuning process, saving you valuable time and effort compared to manual experimentation.</li>\n",
    "  <li><b>Reduces Overfitting Risk:</b> By using cross-validation, GridSearchCV helps prevent the model from overfitting to the training data, leading to better generalization performance on unseen data.</li>\n",
    "</ul>\n",
    "\n",
    "</div>\n"
   ]
  },
  {
   "cell_type": "code",
   "execution_count": 26,
   "id": "dbf9ecaf",
   "metadata": {
    "execution": {
     "iopub.execute_input": "2024-03-23T15:15:51.797003Z",
     "iopub.status.busy": "2024-03-23T15:15:51.796503Z",
     "iopub.status.idle": "2024-03-23T15:15:56.799647Z",
     "shell.execute_reply": "2024-03-23T15:15:56.798528Z"
    },
    "papermill": {
     "duration": 5.032224,
     "end_time": "2024-03-23T15:15:56.802224",
     "exception": false,
     "start_time": "2024-03-23T15:15:51.770000",
     "status": "completed"
    },
    "tags": []
   },
   "outputs": [],
   "source": [
    "# 1. Import the necessary tools\n",
    "from sklearn.naive_bayes import GaussianNB\n",
    "from sklearn.model_selection import GridSearchCV\n",
    "\n",
    "# 2. Define hyperparameters to try\n",
    "nb_params = {'var_smoothing': [0.2, 0.4, 0.5, 0.6, 0.3]}\n",
    "\n",
    "# 3. Create a GaussianNB model object\n",
    "clf_nb = GaussianNB()\n",
    "\n",
    "# 4. Set up GridSearchCV\n",
    "grid_search = GridSearchCV(\n",
    "   estimator=clf_nb,  # The model to tune\n",
    "   param_grid=nb_params,  # Hyperparameters to explore\n",
    "   cv=5,  # Use 5-fold cross-validation\n",
    "   return_train_score=False  # Optional, for saving memory\n",
    ")\n",
    "\n",
    "# 5. Train with GridSearchCV\n",
    "grid_search.fit(X_train_processed, y_train)  # Fit on training data\n",
    "\n",
    "# 6. Retrieve the best model and its score\n",
    "best_estimator = grid_search.best_estimator_\n",
    "best_score = grid_search.best_score_\n"
   ]
  },
  {
   "cell_type": "code",
   "execution_count": 27,
   "id": "29d20547",
   "metadata": {
    "execution": {
     "iopub.execute_input": "2024-03-23T15:15:56.852123Z",
     "iopub.status.busy": "2024-03-23T15:15:56.851729Z",
     "iopub.status.idle": "2024-03-23T15:15:56.859188Z",
     "shell.execute_reply": "2024-03-23T15:15:56.858048Z"
    },
    "papermill": {
     "duration": 0.035673,
     "end_time": "2024-03-23T15:15:56.861685",
     "exception": false,
     "start_time": "2024-03-23T15:15:56.826012",
     "status": "completed"
    },
    "tags": []
   },
   "outputs": [
    {
     "data": {
      "text/plain": [
       "{'var_smoothing': 0.2}"
      ]
     },
     "execution_count": 27,
     "metadata": {},
     "output_type": "execute_result"
    }
   ],
   "source": [
    "grid_search.best_params_"
   ]
  },
  {
   "cell_type": "code",
   "execution_count": 28,
   "id": "d90a2f75",
   "metadata": {
    "execution": {
     "iopub.execute_input": "2024-03-23T15:15:56.911318Z",
     "iopub.status.busy": "2024-03-23T15:15:56.910915Z",
     "iopub.status.idle": "2024-03-23T15:15:57.134943Z",
     "shell.execute_reply": "2024-03-23T15:15:57.133600Z"
    },
    "papermill": {
     "duration": 0.251775,
     "end_time": "2024-03-23T15:15:57.137477",
     "exception": false,
     "start_time": "2024-03-23T15:15:56.885702",
     "status": "completed"
    },
    "tags": []
   },
   "outputs": [
    {
     "data": {
      "text/plain": [
       "0.6881324747010119"
      ]
     },
     "execution_count": 28,
     "metadata": {},
     "output_type": "execute_result"
    }
   ],
   "source": [
    "model=GaussianNB(var_smoothing=0.4)\n",
    "model.fit(X_train_processed,y_train)\n",
    "y_pred=model.predict(X_test_processed)\n",
    "score=accuracy_score(y_pred,y_test)\n",
    "score"
   ]
  },
  {
   "cell_type": "markdown",
   "id": "9cbcc95a",
   "metadata": {
    "papermill": {
     "duration": 0.024615,
     "end_time": "2024-03-23T15:15:57.186170",
     "exception": false,
     "start_time": "2024-03-23T15:15:57.161555",
     "status": "completed"
    },
    "tags": []
   },
   "source": [
    "# Building,Testing and tuning various other models"
   ]
  },
  {
   "cell_type": "markdown",
   "id": "617f2761",
   "metadata": {
    "papermill": {
     "duration": 0.024822,
     "end_time": "2024-03-23T15:15:57.235179",
     "exception": false,
     "start_time": "2024-03-23T15:15:57.210357",
     "status": "completed"
    },
    "tags": []
   },
   "source": [
    "<div style=\"background-color: #FBEAEC; padding: 20px; border-radius: 10px;\">\n",
    "\n",
    "<h2 style=\"color: #9C27B0; text-align: center;\">Hyperparameter Tuning with Multiple Models and Feature Scaling</h2>\n",
    "\n",
    "This section delves into using GridSearchCV for hyperparameter tuning with various machine learning models, including feature scaling as an optional but often beneficial step.\n",
    "\n",
    "**Machine Learning Models:**\n",
    "\n",
    "We'll explore hyperparameter tuning for the following algorithms, providing a brief description and their working principles:\n",
    "\n",
    "* **Support Vector Machine (SVM):**\n",
    "\n",
    "  - A powerful algorithm for classification problems that finds a hyperplane separating the data points of different classes with the maximum margin.\n",
    "  - It excels in high-dimensional spaces and works well with small datasets.\n",
    "  - Common hyperparameters to tune include the regularization parameter (`C`) and the kernel type (`kernel`).\n",
    "\n",
    "* **Random Forest Classifier:**\n",
    "\n",
    "  - An ensemble learning method that combines multiple decision trees for improved prediction accuracy. Each tree makes a prediction, and the final class is chosen by aggregating the individual predictions (e.g., majority vote).\n",
    "  - It handles high dimensionality well and is robust to outliers.\n",
    "  - A common hyperparameter to tune is the number of decision trees (`n_estimators`).\n",
    "\n",
    "* **Logistic Regression:**\n",
    "\n",
    "  - A statistical model used for binary classification problems. It estimates the probability of a data point belonging to a specific class by fitting a logistic function to the data.\n",
    "  - It works well with interpretable features and is relatively fast to train.\n",
    "  - Common hyperparameters to tune include the regularization parameter (`C`) and the penalty type (`penalty`, such as l1, l2, or elasticnet).\n",
    "\n",
    "* **Gradient Boosting Classifier:**\n",
    "\n",
    "  - Another ensemble learning method that combines multiple weak decision trees sequentially. Each subsequent tree is trained to correct the errors of the previous tree, leading to a more robust model.\n",
    "  - It can handle complex non-linear relationships between features and the target variable.\n",
    "  - Common hyperparameters to tune include the number of decision trees (`n_estimators`) and the learning rate (step size for updating the model with each tree)."
   ]
  },
  {
   "cell_type": "code",
   "execution_count": 29,
   "id": "719c41c6",
   "metadata": {
    "execution": {
     "iopub.execute_input": "2024-03-23T15:15:57.285556Z",
     "iopub.status.busy": "2024-03-23T15:15:57.285120Z",
     "iopub.status.idle": "2024-03-23T15:15:57.302703Z",
     "shell.execute_reply": "2024-03-23T15:15:57.301525Z"
    },
    "papermill": {
     "duration": 0.045568,
     "end_time": "2024-03-23T15:15:57.305347",
     "exception": false,
     "start_time": "2024-03-23T15:15:57.259779",
     "status": "completed"
    },
    "tags": []
   },
   "outputs": [],
   "source": [
    "from sklearn import svm\n",
    "from sklearn.ensemble import RandomForestClassifier,GradientBoostingClassifier\n",
    "from sklearn.linear_model import LogisticRegression\n",
    "from sklearn.pipeline import make_pipeline\n",
    "from sklearn.model_selection import GridSearchCV\n",
    "from sklearn.naive_bayes import GaussianNB\n",
    "from sklearn.preprocessing import StandardScaler\n",
    "\n",
    "model_names=['svm','random_forest','logistic_regression','gradient_boosting','XGBoost_Classifier']\n",
    "\n",
    "svm=svm.SVC(gamma='auto',probability=False)\n",
    "random_forest=RandomForestClassifier()\n",
    "logistic_regression=LogisticRegression(solver='liblinear',multi_class='auto')\n",
    "gradient_boosting=GradientBoostingClassifier()\n",
    "\n",
    "models=[svm,random_forest,logistic_regression,gradient_boosting]\n",
    "model_params = [{'svc__C': [1, 10, 100, 0.1], 'svc__kernel': ['rbf', 'linear']},\n",
    "                {'randomforestclassifier__n_estimators': [1, 5, 10]},\n",
    "                {'logisticregression__C': [1, 5, 10], 'logisticregression__penalty': ['l1', 'l2', 'elasticnet']},\n",
    "                {'gradientboostingclassifier__n_estimators': [50, 100, 200], 'gradientboostingclassifier__learning_rate': [0.1, 0.5, 1.0]}]"
   ]
  },
  {
   "cell_type": "code",
   "execution_count": 30,
   "id": "68d584ea",
   "metadata": {
    "execution": {
     "iopub.execute_input": "2024-03-23T15:15:57.356144Z",
     "iopub.status.busy": "2024-03-23T15:15:57.355691Z",
     "iopub.status.idle": "2024-03-23T17:35:21.144580Z",
     "shell.execute_reply": "2024-03-23T17:35:21.143053Z"
    },
    "papermill": {
     "duration": 8363.845204,
     "end_time": "2024-03-23T17:35:21.174832",
     "exception": false,
     "start_time": "2024-03-23T15:15:57.329628",
     "status": "completed"
    },
    "tags": []
   },
   "outputs": [
    {
     "data": {
      "text/html": [
       "<div>\n",
       "<style scoped>\n",
       "    .dataframe tbody tr th:only-of-type {\n",
       "        vertical-align: middle;\n",
       "    }\n",
       "\n",
       "    .dataframe tbody tr th {\n",
       "        vertical-align: top;\n",
       "    }\n",
       "\n",
       "    .dataframe thead th {\n",
       "        text-align: right;\n",
       "    }\n",
       "</style>\n",
       "<table border=\"1\" class=\"dataframe\">\n",
       "  <thead>\n",
       "    <tr style=\"text-align: right;\">\n",
       "      <th></th>\n",
       "      <th>model</th>\n",
       "      <th>best_score</th>\n",
       "      <th>best_params</th>\n",
       "    </tr>\n",
       "  </thead>\n",
       "  <tbody>\n",
       "    <tr>\n",
       "      <th>0</th>\n",
       "      <td>svm</td>\n",
       "      <td>0.770364</td>\n",
       "      <td>{'svc__C': 10, 'svc__kernel': 'linear'}</td>\n",
       "    </tr>\n",
       "    <tr>\n",
       "      <th>1</th>\n",
       "      <td>random_forest</td>\n",
       "      <td>0.780029</td>\n",
       "      <td>{'randomforestclassifier__n_estimators': 10}</td>\n",
       "    </tr>\n",
       "    <tr>\n",
       "      <th>2</th>\n",
       "      <td>logistic_regression</td>\n",
       "      <td>0.730480</td>\n",
       "      <td>{'logisticregression__C': 1, 'logisticregressi...</td>\n",
       "    </tr>\n",
       "    <tr>\n",
       "      <th>3</th>\n",
       "      <td>gradient_boosting</td>\n",
       "      <td>0.800277</td>\n",
       "      <td>{'gradientboostingclassifier__learning_rate': ...</td>\n",
       "    </tr>\n",
       "  </tbody>\n",
       "</table>\n",
       "</div>"
      ],
      "text/plain": [
       "                 model  best_score  \\\n",
       "0                  svm    0.770364   \n",
       "1        random_forest    0.780029   \n",
       "2  logistic_regression    0.730480   \n",
       "3    gradient_boosting    0.800277   \n",
       "\n",
       "                                         best_params  \n",
       "0            {'svc__C': 10, 'svc__kernel': 'linear'}  \n",
       "1       {'randomforestclassifier__n_estimators': 10}  \n",
       "2  {'logisticregression__C': 1, 'logisticregressi...  \n",
       "3  {'gradientboostingclassifier__learning_rate': ...  "
      ]
     },
     "execution_count": 30,
     "metadata": {},
     "output_type": "execute_result"
    }
   ],
   "source": [
    "scores = []\n",
    "best_estimators = {}\n",
    "\n",
    "for algo, model, params in zip(model_names, models, model_params):\n",
    "    pipe = make_pipeline(StandardScaler(), model)\n",
    "    clf = GridSearchCV(pipe, params, cv=5, return_train_score=False)\n",
    "    clf.fit(X_train_processed, y_train)\n",
    "    scores.append({\n",
    "        'model': algo,\n",
    "        'best_score': clf.best_score_,\n",
    "        'best_params': clf.best_params_\n",
    "    })\n",
    "    best_estimators[algo] = clf.best_estimator_\n",
    "\n",
    "res = pd.DataFrame(scores, columns=['model', 'best_score', 'best_params'])\n",
    "res"
   ]
  },
  {
   "cell_type": "markdown",
   "id": "d77d2442",
   "metadata": {
    "papermill": {
     "duration": 0.025349,
     "end_time": "2024-03-23T17:35:21.228053",
     "exception": false,
     "start_time": "2024-03-23T17:35:21.202704",
     "status": "completed"
    },
    "tags": []
   },
   "source": [
    "##### Here, we can deduce that the after hyperparameter tuning, the Gradient Boosting algorithm performs the best,followed by SVM, Logistic Regression and Random Forest"
   ]
  },
  {
   "cell_type": "code",
   "execution_count": 31,
   "id": "00a144f5",
   "metadata": {
    "execution": {
     "iopub.execute_input": "2024-03-23T17:35:21.280249Z",
     "iopub.status.busy": "2024-03-23T17:35:21.279834Z",
     "iopub.status.idle": "2024-03-23T17:35:21.300221Z",
     "shell.execute_reply": "2024-03-23T17:35:21.298313Z"
    },
    "papermill": {
     "duration": 0.049145,
     "end_time": "2024-03-23T17:35:21.302786",
     "exception": false,
     "start_time": "2024-03-23T17:35:21.253641",
     "status": "completed"
    },
    "tags": []
   },
   "outputs": [
    {
     "data": {
      "text/html": [
       "<style>#sk-container-id-1 {color: black;background-color: white;}#sk-container-id-1 pre{padding: 0;}#sk-container-id-1 div.sk-toggleable {background-color: white;}#sk-container-id-1 label.sk-toggleable__label {cursor: pointer;display: block;width: 100%;margin-bottom: 0;padding: 0.3em;box-sizing: border-box;text-align: center;}#sk-container-id-1 label.sk-toggleable__label-arrow:before {content: \"▸\";float: left;margin-right: 0.25em;color: #696969;}#sk-container-id-1 label.sk-toggleable__label-arrow:hover:before {color: black;}#sk-container-id-1 div.sk-estimator:hover label.sk-toggleable__label-arrow:before {color: black;}#sk-container-id-1 div.sk-toggleable__content {max-height: 0;max-width: 0;overflow: hidden;text-align: left;background-color: #f0f8ff;}#sk-container-id-1 div.sk-toggleable__content pre {margin: 0.2em;color: black;border-radius: 0.25em;background-color: #f0f8ff;}#sk-container-id-1 input.sk-toggleable__control:checked~div.sk-toggleable__content {max-height: 200px;max-width: 100%;overflow: auto;}#sk-container-id-1 input.sk-toggleable__control:checked~label.sk-toggleable__label-arrow:before {content: \"▾\";}#sk-container-id-1 div.sk-estimator input.sk-toggleable__control:checked~label.sk-toggleable__label {background-color: #d4ebff;}#sk-container-id-1 div.sk-label input.sk-toggleable__control:checked~label.sk-toggleable__label {background-color: #d4ebff;}#sk-container-id-1 input.sk-hidden--visually {border: 0;clip: rect(1px 1px 1px 1px);clip: rect(1px, 1px, 1px, 1px);height: 1px;margin: -1px;overflow: hidden;padding: 0;position: absolute;width: 1px;}#sk-container-id-1 div.sk-estimator {font-family: monospace;background-color: #f0f8ff;border: 1px dotted black;border-radius: 0.25em;box-sizing: border-box;margin-bottom: 0.5em;}#sk-container-id-1 div.sk-estimator:hover {background-color: #d4ebff;}#sk-container-id-1 div.sk-parallel-item::after {content: \"\";width: 100%;border-bottom: 1px solid gray;flex-grow: 1;}#sk-container-id-1 div.sk-label:hover label.sk-toggleable__label {background-color: #d4ebff;}#sk-container-id-1 div.sk-serial::before {content: \"\";position: absolute;border-left: 1px solid gray;box-sizing: border-box;top: 0;bottom: 0;left: 50%;z-index: 0;}#sk-container-id-1 div.sk-serial {display: flex;flex-direction: column;align-items: center;background-color: white;padding-right: 0.2em;padding-left: 0.2em;position: relative;}#sk-container-id-1 div.sk-item {position: relative;z-index: 1;}#sk-container-id-1 div.sk-parallel {display: flex;align-items: stretch;justify-content: center;background-color: white;position: relative;}#sk-container-id-1 div.sk-item::before, #sk-container-id-1 div.sk-parallel-item::before {content: \"\";position: absolute;border-left: 1px solid gray;box-sizing: border-box;top: 0;bottom: 0;left: 50%;z-index: -1;}#sk-container-id-1 div.sk-parallel-item {display: flex;flex-direction: column;z-index: 1;position: relative;background-color: white;}#sk-container-id-1 div.sk-parallel-item:first-child::after {align-self: flex-end;width: 50%;}#sk-container-id-1 div.sk-parallel-item:last-child::after {align-self: flex-start;width: 50%;}#sk-container-id-1 div.sk-parallel-item:only-child::after {width: 0;}#sk-container-id-1 div.sk-dashed-wrapped {border: 1px dashed gray;margin: 0 0.4em 0.5em 0.4em;box-sizing: border-box;padding-bottom: 0.4em;background-color: white;}#sk-container-id-1 div.sk-label label {font-family: monospace;font-weight: bold;display: inline-block;line-height: 1.2em;}#sk-container-id-1 div.sk-label-container {text-align: center;}#sk-container-id-1 div.sk-container {/* jupyter's `normalize.less` sets `[hidden] { display: none; }` but bootstrap.min.css set `[hidden] { display: none !important; }` so we also need the `!important` here to be able to override the default hidden behavior on the sphinx rendered scikit-learn.org. See: https://github.com/scikit-learn/scikit-learn/issues/21755 */display: inline-block !important;position: relative;}#sk-container-id-1 div.sk-text-repr-fallback {display: none;}</style><div id=\"sk-container-id-1\" class=\"sk-top-container\"><div class=\"sk-text-repr-fallback\"><pre>Pipeline(steps=[(&#x27;standardscaler&#x27;, StandardScaler()),\n",
       "                (&#x27;logisticregression&#x27;,\n",
       "                 LogisticRegression(C=1, penalty=&#x27;l1&#x27;, solver=&#x27;liblinear&#x27;))])</pre><b>In a Jupyter environment, please rerun this cell to show the HTML representation or trust the notebook. <br />On GitHub, the HTML representation is unable to render, please try loading this page with nbviewer.org.</b></div><div class=\"sk-container\" hidden><div class=\"sk-item sk-dashed-wrapped\"><div class=\"sk-label-container\"><div class=\"sk-label sk-toggleable\"><input class=\"sk-toggleable__control sk-hidden--visually\" id=\"sk-estimator-id-1\" type=\"checkbox\" ><label for=\"sk-estimator-id-1\" class=\"sk-toggleable__label sk-toggleable__label-arrow\">Pipeline</label><div class=\"sk-toggleable__content\"><pre>Pipeline(steps=[(&#x27;standardscaler&#x27;, StandardScaler()),\n",
       "                (&#x27;logisticregression&#x27;,\n",
       "                 LogisticRegression(C=1, penalty=&#x27;l1&#x27;, solver=&#x27;liblinear&#x27;))])</pre></div></div></div><div class=\"sk-serial\"><div class=\"sk-item\"><div class=\"sk-estimator sk-toggleable\"><input class=\"sk-toggleable__control sk-hidden--visually\" id=\"sk-estimator-id-2\" type=\"checkbox\" ><label for=\"sk-estimator-id-2\" class=\"sk-toggleable__label sk-toggleable__label-arrow\">StandardScaler</label><div class=\"sk-toggleable__content\"><pre>StandardScaler()</pre></div></div></div><div class=\"sk-item\"><div class=\"sk-estimator sk-toggleable\"><input class=\"sk-toggleable__control sk-hidden--visually\" id=\"sk-estimator-id-3\" type=\"checkbox\" ><label for=\"sk-estimator-id-3\" class=\"sk-toggleable__label sk-toggleable__label-arrow\">LogisticRegression</label><div class=\"sk-toggleable__content\"><pre>LogisticRegression(C=1, penalty=&#x27;l1&#x27;, solver=&#x27;liblinear&#x27;)</pre></div></div></div></div></div></div></div>"
      ],
      "text/plain": [
       "Pipeline(steps=[('standardscaler', StandardScaler()),\n",
       "                ('logisticregression',\n",
       "                 LogisticRegression(C=1, penalty='l1', solver='liblinear'))])"
      ]
     },
     "execution_count": 31,
     "metadata": {},
     "output_type": "execute_result"
    }
   ],
   "source": [
    "best_estimators['logistic_regression']"
   ]
  },
  {
   "cell_type": "code",
   "execution_count": 32,
   "id": "c70b5206",
   "metadata": {
    "execution": {
     "iopub.execute_input": "2024-03-23T17:35:21.356974Z",
     "iopub.status.busy": "2024-03-23T17:35:21.356175Z",
     "iopub.status.idle": "2024-03-23T17:35:21.369706Z",
     "shell.execute_reply": "2024-03-23T17:35:21.368254Z"
    },
    "papermill": {
     "duration": 0.045106,
     "end_time": "2024-03-23T17:35:21.372719",
     "exception": false,
     "start_time": "2024-03-23T17:35:21.327613",
     "status": "completed"
    },
    "tags": []
   },
   "outputs": [
    {
     "data": {
      "text/html": [
       "<style>#sk-container-id-2 {color: black;background-color: white;}#sk-container-id-2 pre{padding: 0;}#sk-container-id-2 div.sk-toggleable {background-color: white;}#sk-container-id-2 label.sk-toggleable__label {cursor: pointer;display: block;width: 100%;margin-bottom: 0;padding: 0.3em;box-sizing: border-box;text-align: center;}#sk-container-id-2 label.sk-toggleable__label-arrow:before {content: \"▸\";float: left;margin-right: 0.25em;color: #696969;}#sk-container-id-2 label.sk-toggleable__label-arrow:hover:before {color: black;}#sk-container-id-2 div.sk-estimator:hover label.sk-toggleable__label-arrow:before {color: black;}#sk-container-id-2 div.sk-toggleable__content {max-height: 0;max-width: 0;overflow: hidden;text-align: left;background-color: #f0f8ff;}#sk-container-id-2 div.sk-toggleable__content pre {margin: 0.2em;color: black;border-radius: 0.25em;background-color: #f0f8ff;}#sk-container-id-2 input.sk-toggleable__control:checked~div.sk-toggleable__content {max-height: 200px;max-width: 100%;overflow: auto;}#sk-container-id-2 input.sk-toggleable__control:checked~label.sk-toggleable__label-arrow:before {content: \"▾\";}#sk-container-id-2 div.sk-estimator input.sk-toggleable__control:checked~label.sk-toggleable__label {background-color: #d4ebff;}#sk-container-id-2 div.sk-label input.sk-toggleable__control:checked~label.sk-toggleable__label {background-color: #d4ebff;}#sk-container-id-2 input.sk-hidden--visually {border: 0;clip: rect(1px 1px 1px 1px);clip: rect(1px, 1px, 1px, 1px);height: 1px;margin: -1px;overflow: hidden;padding: 0;position: absolute;width: 1px;}#sk-container-id-2 div.sk-estimator {font-family: monospace;background-color: #f0f8ff;border: 1px dotted black;border-radius: 0.25em;box-sizing: border-box;margin-bottom: 0.5em;}#sk-container-id-2 div.sk-estimator:hover {background-color: #d4ebff;}#sk-container-id-2 div.sk-parallel-item::after {content: \"\";width: 100%;border-bottom: 1px solid gray;flex-grow: 1;}#sk-container-id-2 div.sk-label:hover label.sk-toggleable__label {background-color: #d4ebff;}#sk-container-id-2 div.sk-serial::before {content: \"\";position: absolute;border-left: 1px solid gray;box-sizing: border-box;top: 0;bottom: 0;left: 50%;z-index: 0;}#sk-container-id-2 div.sk-serial {display: flex;flex-direction: column;align-items: center;background-color: white;padding-right: 0.2em;padding-left: 0.2em;position: relative;}#sk-container-id-2 div.sk-item {position: relative;z-index: 1;}#sk-container-id-2 div.sk-parallel {display: flex;align-items: stretch;justify-content: center;background-color: white;position: relative;}#sk-container-id-2 div.sk-item::before, #sk-container-id-2 div.sk-parallel-item::before {content: \"\";position: absolute;border-left: 1px solid gray;box-sizing: border-box;top: 0;bottom: 0;left: 50%;z-index: -1;}#sk-container-id-2 div.sk-parallel-item {display: flex;flex-direction: column;z-index: 1;position: relative;background-color: white;}#sk-container-id-2 div.sk-parallel-item:first-child::after {align-self: flex-end;width: 50%;}#sk-container-id-2 div.sk-parallel-item:last-child::after {align-self: flex-start;width: 50%;}#sk-container-id-2 div.sk-parallel-item:only-child::after {width: 0;}#sk-container-id-2 div.sk-dashed-wrapped {border: 1px dashed gray;margin: 0 0.4em 0.5em 0.4em;box-sizing: border-box;padding-bottom: 0.4em;background-color: white;}#sk-container-id-2 div.sk-label label {font-family: monospace;font-weight: bold;display: inline-block;line-height: 1.2em;}#sk-container-id-2 div.sk-label-container {text-align: center;}#sk-container-id-2 div.sk-container {/* jupyter's `normalize.less` sets `[hidden] { display: none; }` but bootstrap.min.css set `[hidden] { display: none !important; }` so we also need the `!important` here to be able to override the default hidden behavior on the sphinx rendered scikit-learn.org. See: https://github.com/scikit-learn/scikit-learn/issues/21755 */display: inline-block !important;position: relative;}#sk-container-id-2 div.sk-text-repr-fallback {display: none;}</style><div id=\"sk-container-id-2\" class=\"sk-top-container\"><div class=\"sk-text-repr-fallback\"><pre>Pipeline(steps=[(&#x27;standardscaler&#x27;, StandardScaler()),\n",
       "                (&#x27;gradientboostingclassifier&#x27;,\n",
       "                 GradientBoostingClassifier(n_estimators=200))])</pre><b>In a Jupyter environment, please rerun this cell to show the HTML representation or trust the notebook. <br />On GitHub, the HTML representation is unable to render, please try loading this page with nbviewer.org.</b></div><div class=\"sk-container\" hidden><div class=\"sk-item sk-dashed-wrapped\"><div class=\"sk-label-container\"><div class=\"sk-label sk-toggleable\"><input class=\"sk-toggleable__control sk-hidden--visually\" id=\"sk-estimator-id-4\" type=\"checkbox\" ><label for=\"sk-estimator-id-4\" class=\"sk-toggleable__label sk-toggleable__label-arrow\">Pipeline</label><div class=\"sk-toggleable__content\"><pre>Pipeline(steps=[(&#x27;standardscaler&#x27;, StandardScaler()),\n",
       "                (&#x27;gradientboostingclassifier&#x27;,\n",
       "                 GradientBoostingClassifier(n_estimators=200))])</pre></div></div></div><div class=\"sk-serial\"><div class=\"sk-item\"><div class=\"sk-estimator sk-toggleable\"><input class=\"sk-toggleable__control sk-hidden--visually\" id=\"sk-estimator-id-5\" type=\"checkbox\" ><label for=\"sk-estimator-id-5\" class=\"sk-toggleable__label sk-toggleable__label-arrow\">StandardScaler</label><div class=\"sk-toggleable__content\"><pre>StandardScaler()</pre></div></div></div><div class=\"sk-item\"><div class=\"sk-estimator sk-toggleable\"><input class=\"sk-toggleable__control sk-hidden--visually\" id=\"sk-estimator-id-6\" type=\"checkbox\" ><label for=\"sk-estimator-id-6\" class=\"sk-toggleable__label sk-toggleable__label-arrow\">GradientBoostingClassifier</label><div class=\"sk-toggleable__content\"><pre>GradientBoostingClassifier(n_estimators=200)</pre></div></div></div></div></div></div></div>"
      ],
      "text/plain": [
       "Pipeline(steps=[('standardscaler', StandardScaler()),\n",
       "                ('gradientboostingclassifier',\n",
       "                 GradientBoostingClassifier(n_estimators=200))])"
      ]
     },
     "execution_count": 32,
     "metadata": {},
     "output_type": "execute_result"
    }
   ],
   "source": [
    "best_estimators['gradient_boosting']"
   ]
  },
  {
   "cell_type": "code",
   "execution_count": 33,
   "id": "8db5c762",
   "metadata": {
    "execution": {
     "iopub.execute_input": "2024-03-23T17:35:21.426434Z",
     "iopub.status.busy": "2024-03-23T17:35:21.424891Z",
     "iopub.status.idle": "2024-03-23T19:16:16.436924Z",
     "shell.execute_reply": "2024-03-23T19:16:16.435330Z"
    },
    "papermill": {
     "duration": 6055.066033,
     "end_time": "2024-03-23T19:16:16.463644",
     "exception": false,
     "start_time": "2024-03-23T17:35:21.397611",
     "status": "completed"
    },
    "tags": []
   },
   "outputs": [
    {
     "data": {
      "text/plain": [
       "0.8097868769098211"
      ]
     },
     "execution_count": 33,
     "metadata": {},
     "output_type": "execute_result"
    }
   ],
   "source": [
    "from xgboost import XGBClassifier\n",
    "xgb=XGBClassifier()\n",
    "xgb_params={'max_depth': range(3,10,1),\n",
    "            'n_estimators':[50,100,130],\n",
    "            'random_state':[0,50,100]}\n",
    "clf_xgb=GridSearchCV(xgb, param_grid=xgb_params, cv=5, return_train_score=False)\n",
    "clf_xgb.fit(X_train_processed, y_train)\n",
    "clf_xgb.best_score_"
   ]
  },
  {
   "cell_type": "code",
   "execution_count": 34,
   "id": "6868094a",
   "metadata": {
    "execution": {
     "iopub.execute_input": "2024-03-23T19:16:16.520057Z",
     "iopub.status.busy": "2024-03-23T19:16:16.519619Z",
     "iopub.status.idle": "2024-03-23T19:16:16.533696Z",
     "shell.execute_reply": "2024-03-23T19:16:16.532734Z"
    },
    "papermill": {
     "duration": 0.045953,
     "end_time": "2024-03-23T19:16:16.536253",
     "exception": false,
     "start_time": "2024-03-23T19:16:16.490300",
     "status": "completed"
    },
    "tags": []
   },
   "outputs": [
    {
     "data": {
      "text/plain": [
       "['xgboost_model.pkl']"
      ]
     },
     "execution_count": 34,
     "metadata": {},
     "output_type": "execute_result"
    }
   ],
   "source": [
    "import joblib\n",
    "\n",
    "# Save the best model using joblib\n",
    "joblib.dump(clf_xgb.best_estimator_, 'xgboost_model.pkl')  # Choose a descriptive filename\n"
   ]
  },
  {
   "cell_type": "markdown",
   "id": "2bbff250",
   "metadata": {
    "papermill": {
     "duration": 0.025859,
     "end_time": "2024-03-23T19:16:16.587983",
     "exception": false,
     "start_time": "2024-03-23T19:16:16.562124",
     "status": "completed"
    },
    "tags": []
   },
   "source": [
    "**The XG Boosting method fetches the best score till now !!**"
   ]
  },
  {
   "cell_type": "code",
   "execution_count": 35,
   "id": "71359332",
   "metadata": {
    "execution": {
     "iopub.execute_input": "2024-03-23T19:16:16.641759Z",
     "iopub.status.busy": "2024-03-23T19:16:16.640268Z",
     "iopub.status.idle": "2024-03-23T19:16:16.649460Z",
     "shell.execute_reply": "2024-03-23T19:16:16.647574Z"
    },
    "papermill": {
     "duration": 0.039133,
     "end_time": "2024-03-23T19:16:16.652761",
     "exception": false,
     "start_time": "2024-03-23T19:16:16.613628",
     "status": "completed"
    },
    "tags": []
   },
   "outputs": [
    {
     "data": {
      "text/plain": [
       "{'max_depth': 4, 'n_estimators': 50, 'random_state': 0}"
      ]
     },
     "execution_count": 35,
     "metadata": {},
     "output_type": "execute_result"
    }
   ],
   "source": [
    "clf_xgb.best_params_"
   ]
  },
  {
   "cell_type": "code",
   "execution_count": 36,
   "id": "644574c8",
   "metadata": {
    "execution": {
     "iopub.execute_input": "2024-03-23T19:16:16.801938Z",
     "iopub.status.busy": "2024-03-23T19:16:16.801540Z",
     "iopub.status.idle": "2024-03-23T19:16:24.480152Z",
     "shell.execute_reply": "2024-03-23T19:16:24.479263Z"
    },
    "papermill": {
     "duration": 7.708159,
     "end_time": "2024-03-23T19:16:24.482655",
     "exception": false,
     "start_time": "2024-03-23T19:16:16.774496",
     "status": "completed"
    },
    "tags": []
   },
   "outputs": [
    {
     "data": {
      "text/plain": [
       "0.7879484820607175"
      ]
     },
     "execution_count": 36,
     "metadata": {},
     "output_type": "execute_result"
    }
   ],
   "source": [
    "xgb=XGBClassifier(max_depth=3,n_estimators=50,random_state=0)\n",
    "xgb.fit(X_train_processed, y_train)\n",
    "y_pred=xgb.predict(X_test_processed)\n",
    "score=accuracy_score(y_pred,y_test)\n",
    "score"
   ]
  },
  {
   "cell_type": "markdown",
   "id": "08bc9d45",
   "metadata": {
    "papermill": {
     "duration": 0.028945,
     "end_time": "2024-03-23T19:16:24.539439",
     "exception": false,
     "start_time": "2024-03-23T19:16:24.510494",
     "status": "completed"
    },
    "tags": []
   },
   "source": [
    "# Voting classifier"
   ]
  },
  {
   "cell_type": "markdown",
   "id": "679013b4",
   "metadata": {
    "papermill": {
     "duration": 0.029996,
     "end_time": "2024-03-23T19:16:24.599095",
     "exception": false,
     "start_time": "2024-03-23T19:16:24.569099",
     "status": "completed"
    },
    "tags": []
   },
   "source": [
    "<div style=\"background-color: #F8F9FC; padding: 20px; border-radius: 10px;\">\n",
    "\n",
    "<h2 style=\"color: #29ABCA; text-align: center;\">Ensemble Learning with Voting Classifier</h2>\n",
    "\n",
    "We've explored hyperparameter tuning with GridSearchCV for individual machine learning models. Now, let's delve into ensemble methods, specifically VotingClassifier!\n",
    "\n",
    "**What is Voting Classifier?**\n",
    "\n",
    "Voting Classifier combines the predictions of multiple individual classifiers (ensemble) to potentially achieve better performance than any single model. It's like a democratic committee where the majority vote determines the final prediction.\n"
   ]
  },
  {
   "cell_type": "code",
   "execution_count": 37,
   "id": "ddaf1f8c",
   "metadata": {
    "execution": {
     "iopub.execute_input": "2024-03-23T19:16:24.660162Z",
     "iopub.status.busy": "2024-03-23T19:16:24.658373Z",
     "iopub.status.idle": "2024-03-23T19:18:06.880116Z",
     "shell.execute_reply": "2024-03-23T19:18:06.878907Z"
    },
    "papermill": {
     "duration": 102.278145,
     "end_time": "2024-03-23T19:18:06.907670",
     "exception": false,
     "start_time": "2024-03-23T19:16:24.629525",
     "status": "completed"
    },
    "tags": []
   },
   "outputs": [
    {
     "name": "stdout",
     "output_type": "stream",
     "text": [
      "Voting Classifier Accuracy: 0.7897884084636615\n"
     ]
    }
   ],
   "source": [
    "from sklearn.ensemble import VotingClassifier\n",
    "from sklearn import svm\n",
    "\n",
    "voting_clf = VotingClassifier(estimators=[('SVC', svm.SVC(gamma='auto',probability=False,C=100,kernel='rbf')), \n",
    "                                          ('random forest', RandomForestClassifier(n_estimators=10)), \n",
    "                                          ('logistic regression', LogisticRegression(C=1, solver='liblinear')),\n",
    "                                          ('gradient boosting',GradientBoostingClassifier()),\n",
    "                                          ('XGB Classifier',XGBClassifier(max_depth=3,n_estimators=50,random_state=0)),\n",
    "                                          ('GaussianNB',GaussianNB(var_smoothing=0.2))], voting='hard')\n",
    "\n",
    "# Fit the voting classifier on the training data\n",
    "voting_clf.fit(X_train_processed, y_train)\n",
    "\n",
    "# Make predictions using the voting classifier\n",
    "y_pred = voting_clf.predict(X_test_processed)\n",
    "\n",
    "accuracy = accuracy_score(y_test, y_pred)\n",
    "print(\"Voting Classifier Accuracy:\", accuracy)"
   ]
  },
  {
   "cell_type": "markdown",
   "id": "0c2ace25",
   "metadata": {
    "papermill": {
     "duration": 0.025063,
     "end_time": "2024-03-23T19:18:06.958155",
     "exception": false,
     "start_time": "2024-03-23T19:18:06.933092",
     "status": "completed"
    },
    "tags": []
   },
   "source": [
    "##### Around 80 % accuracy has been achieved"
   ]
  },
  {
   "cell_type": "code",
   "execution_count": 38,
   "id": "71e8cc41",
   "metadata": {
    "execution": {
     "iopub.execute_input": "2024-03-23T19:18:07.010965Z",
     "iopub.status.busy": "2024-03-23T19:18:07.010564Z",
     "iopub.status.idle": "2024-03-23T19:18:07.065221Z",
     "shell.execute_reply": "2024-03-23T19:18:07.063982Z"
    },
    "papermill": {
     "duration": 0.084147,
     "end_time": "2024-03-23T19:18:07.067749",
     "exception": false,
     "start_time": "2024-03-23T19:18:06.983602",
     "status": "completed"
    },
    "tags": []
   },
   "outputs": [
    {
     "data": {
      "text/html": [
       "<div>\n",
       "<style scoped>\n",
       "    .dataframe tbody tr th:only-of-type {\n",
       "        vertical-align: middle;\n",
       "    }\n",
       "\n",
       "    .dataframe tbody tr th {\n",
       "        vertical-align: top;\n",
       "    }\n",
       "\n",
       "    .dataframe thead th {\n",
       "        text-align: right;\n",
       "    }\n",
       "</style>\n",
       "<table border=\"1\" class=\"dataframe\">\n",
       "  <thead>\n",
       "    <tr style=\"text-align: right;\">\n",
       "      <th></th>\n",
       "      <th>PassengerId</th>\n",
       "      <th>Transported</th>\n",
       "    </tr>\n",
       "  </thead>\n",
       "  <tbody>\n",
       "    <tr>\n",
       "      <th>0</th>\n",
       "      <td>0013_01</td>\n",
       "      <td>False</td>\n",
       "    </tr>\n",
       "    <tr>\n",
       "      <th>1</th>\n",
       "      <td>0018_01</td>\n",
       "      <td>False</td>\n",
       "    </tr>\n",
       "    <tr>\n",
       "      <th>2</th>\n",
       "      <td>0019_01</td>\n",
       "      <td>False</td>\n",
       "    </tr>\n",
       "    <tr>\n",
       "      <th>3</th>\n",
       "      <td>0021_01</td>\n",
       "      <td>False</td>\n",
       "    </tr>\n",
       "    <tr>\n",
       "      <th>4</th>\n",
       "      <td>0023_01</td>\n",
       "      <td>False</td>\n",
       "    </tr>\n",
       "  </tbody>\n",
       "</table>\n",
       "</div>"
      ],
      "text/plain": [
       "  PassengerId  Transported\n",
       "0     0013_01        False\n",
       "1     0018_01        False\n",
       "2     0019_01        False\n",
       "3     0021_01        False\n",
       "4     0023_01        False"
      ]
     },
     "execution_count": 38,
     "metadata": {},
     "output_type": "execute_result"
    }
   ],
   "source": [
    "sub=pd.read_csv('/kaggle/input/spaceship-titanic/sample_submission.csv')\n",
    "sub.head()"
   ]
  },
  {
   "cell_type": "markdown",
   "id": "04d49357",
   "metadata": {
    "papermill": {
     "duration": 0.025249,
     "end_time": "2024-03-23T19:18:07.119349",
     "exception": false,
     "start_time": "2024-03-23T19:18:07.094100",
     "status": "completed"
    },
    "tags": []
   },
   "source": [
    "# Submission"
   ]
  },
  {
   "cell_type": "code",
   "execution_count": 39,
   "id": "1cc7b6ff",
   "metadata": {
    "execution": {
     "iopub.execute_input": "2024-03-23T19:18:07.172584Z",
     "iopub.status.busy": "2024-03-23T19:18:07.172128Z",
     "iopub.status.idle": "2024-03-23T19:18:07.245248Z",
     "shell.execute_reply": "2024-03-23T19:18:07.244031Z"
    },
    "papermill": {
     "duration": 0.10286,
     "end_time": "2024-03-23T19:18:07.247784",
     "exception": false,
     "start_time": "2024-03-23T19:18:07.144924",
     "status": "completed"
    },
    "tags": []
   },
   "outputs": [
    {
     "data": {
      "text/html": [
       "<div>\n",
       "<style scoped>\n",
       "    .dataframe tbody tr th:only-of-type {\n",
       "        vertical-align: middle;\n",
       "    }\n",
       "\n",
       "    .dataframe tbody tr th {\n",
       "        vertical-align: top;\n",
       "    }\n",
       "\n",
       "    .dataframe thead th {\n",
       "        text-align: right;\n",
       "    }\n",
       "</style>\n",
       "<table border=\"1\" class=\"dataframe\">\n",
       "  <thead>\n",
       "    <tr style=\"text-align: right;\">\n",
       "      <th></th>\n",
       "      <th>PassengerId</th>\n",
       "      <th>Transported</th>\n",
       "    </tr>\n",
       "  </thead>\n",
       "  <tbody>\n",
       "    <tr>\n",
       "      <th>0</th>\n",
       "      <td>0013_01</td>\n",
       "      <td>True</td>\n",
       "    </tr>\n",
       "    <tr>\n",
       "      <th>1</th>\n",
       "      <td>0018_01</td>\n",
       "      <td>False</td>\n",
       "    </tr>\n",
       "    <tr>\n",
       "      <th>2</th>\n",
       "      <td>0019_01</td>\n",
       "      <td>True</td>\n",
       "    </tr>\n",
       "    <tr>\n",
       "      <th>3</th>\n",
       "      <td>0021_01</td>\n",
       "      <td>True</td>\n",
       "    </tr>\n",
       "  </tbody>\n",
       "</table>\n",
       "</div>"
      ],
      "text/plain": [
       "  PassengerId  Transported\n",
       "0     0013_01         True\n",
       "1     0018_01        False\n",
       "2     0019_01         True\n",
       "3     0021_01         True"
      ]
     },
     "execution_count": 39,
     "metadata": {},
     "output_type": "execute_result"
    }
   ],
   "source": [
    "test_df = pd.read_csv('/kaggle/input/spaceship-titanic/test.csv')\n",
    "submission_id = test_df.PassengerId\n",
    "predictions = clf_xgb.predict(df2_processed)\n",
    "n_predictions = (predictions > 0.5).astype(bool)\n",
    "output=pd.DataFrame({'PassengerId': submission_id,'Transported': n_predictions.squeeze()})\n",
    "output.head(4)"
   ]
  },
  {
   "cell_type": "code",
   "execution_count": 40,
   "id": "010190ce",
   "metadata": {
    "execution": {
     "iopub.execute_input": "2024-03-23T19:18:07.302794Z",
     "iopub.status.busy": "2024-03-23T19:18:07.302371Z",
     "iopub.status.idle": "2024-03-23T19:18:07.331592Z",
     "shell.execute_reply": "2024-03-23T19:18:07.330628Z"
    },
    "papermill": {
     "duration": 0.059522,
     "end_time": "2024-03-23T19:18:07.333793",
     "exception": false,
     "start_time": "2024-03-23T19:18:07.274271",
     "status": "completed"
    },
    "tags": []
   },
   "outputs": [
    {
     "data": {
      "text/html": [
       "<div>\n",
       "<style scoped>\n",
       "    .dataframe tbody tr th:only-of-type {\n",
       "        vertical-align: middle;\n",
       "    }\n",
       "\n",
       "    .dataframe tbody tr th {\n",
       "        vertical-align: top;\n",
       "    }\n",
       "\n",
       "    .dataframe thead th {\n",
       "        text-align: right;\n",
       "    }\n",
       "</style>\n",
       "<table border=\"1\" class=\"dataframe\">\n",
       "  <thead>\n",
       "    <tr style=\"text-align: right;\">\n",
       "      <th></th>\n",
       "      <th>PassengerId</th>\n",
       "      <th>Transported</th>\n",
       "    </tr>\n",
       "  </thead>\n",
       "  <tbody>\n",
       "    <tr>\n",
       "      <th>0</th>\n",
       "      <td>0013_01</td>\n",
       "      <td>True</td>\n",
       "    </tr>\n",
       "    <tr>\n",
       "      <th>1</th>\n",
       "      <td>0018_01</td>\n",
       "      <td>False</td>\n",
       "    </tr>\n",
       "    <tr>\n",
       "      <th>2</th>\n",
       "      <td>0019_01</td>\n",
       "      <td>True</td>\n",
       "    </tr>\n",
       "    <tr>\n",
       "      <th>3</th>\n",
       "      <td>0021_01</td>\n",
       "      <td>True</td>\n",
       "    </tr>\n",
       "    <tr>\n",
       "      <th>4</th>\n",
       "      <td>0023_01</td>\n",
       "      <td>True</td>\n",
       "    </tr>\n",
       "  </tbody>\n",
       "</table>\n",
       "</div>"
      ],
      "text/plain": [
       "  PassengerId  Transported\n",
       "0     0013_01         True\n",
       "1     0018_01        False\n",
       "2     0019_01         True\n",
       "3     0021_01         True\n",
       "4     0023_01         True"
      ]
     },
     "execution_count": 40,
     "metadata": {},
     "output_type": "execute_result"
    }
   ],
   "source": [
    "sample_submission_df = pd.read_csv('/kaggle/input/spaceship-titanic/sample_submission.csv')\n",
    "sample_submission_df['Transported'] = n_predictions\n",
    "sample_submission_df.to_csv('/kaggle/working/submissions.csv', index=False)\n",
    "sample_submission_df.head()"
   ]
  },
  {
   "cell_type": "code",
   "execution_count": 41,
   "id": "cc0a3930",
   "metadata": {
    "execution": {
     "iopub.execute_input": "2024-03-23T19:18:07.389624Z",
     "iopub.status.busy": "2024-03-23T19:18:07.388440Z",
     "iopub.status.idle": "2024-03-23T19:18:07.395655Z",
     "shell.execute_reply": "2024-03-23T19:18:07.394463Z"
    },
    "papermill": {
     "duration": 0.036984,
     "end_time": "2024-03-23T19:18:07.397908",
     "exception": false,
     "start_time": "2024-03-23T19:18:07.360924",
     "status": "completed"
    },
    "tags": []
   },
   "outputs": [
    {
     "name": "stdout",
     "output_type": "stream",
     "text": [
      "Read permission is granted.\n",
      "Write permission is granted.\n"
     ]
    }
   ],
   "source": [
    "import os\n",
    "\n",
    "file_path = '/kaggle/working/submissions.csv'  # Replace with the actual path to your submission file\n",
    "\n",
    "# Get file permissions\n",
    "permissions = os.stat(file_path).st_mode\n",
    "\n",
    "# Check file permissions\n",
    "if permissions & 0o444:\n",
    "    print(\"Read permission is granted.\")\n",
    "else:\n",
    "    print(\"Read permission is not granted.\")\n",
    "\n",
    "if permissions & 0o222:\n",
    "    print(\"Write permission is granted.\")\n",
    "else:\n",
    "    print(\"Write permission is not granted.\")"
   ]
  }
 ],
 "metadata": {
  "kaggle": {
   "accelerator": "none",
   "dataSources": [
    {
     "databundleVersionId": 3220602,
     "sourceId": 34377,
     "sourceType": "competition"
    }
   ],
   "dockerImageVersionId": 30513,
   "isGpuEnabled": false,
   "isInternetEnabled": true,
   "language": "python",
   "sourceType": "notebook"
  },
  "kernelspec": {
   "display_name": "Python 3",
   "language": "python",
   "name": "python3"
  },
  "language_info": {
   "codemirror_mode": {
    "name": "ipython",
    "version": 3
   },
   "file_extension": ".py",
   "mimetype": "text/x-python",
   "name": "python",
   "nbconvert_exporter": "python",
   "pygments_lexer": "ipython3",
   "version": "3.10.10"
  },
  "papermill": {
   "default_parameters": {},
   "duration": 14668.475426,
   "end_time": "2024-03-23T19:18:10.825829",
   "environment_variables": {},
   "exception": null,
   "input_path": "__notebook__.ipynb",
   "output_path": "__notebook__.ipynb",
   "parameters": {},
   "start_time": "2024-03-23T15:13:42.350403",
   "version": "2.4.0"
  }
 },
 "nbformat": 4,
 "nbformat_minor": 5
}
